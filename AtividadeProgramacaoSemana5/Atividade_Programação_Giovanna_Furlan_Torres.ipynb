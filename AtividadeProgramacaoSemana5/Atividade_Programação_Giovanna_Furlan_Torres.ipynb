{
  "nbformat": 4,
  "nbformat_minor": 0,
  "metadata": {
    "colab": {
      "provenance": []
    },
    "kernelspec": {
      "name": "python3",
      "display_name": "Python 3"
    },
    "language_info": {
      "name": "python"
    }
  },
  "cells": [
    {
      "cell_type": "markdown",
      "source": [
        "# Uso de funções de hash em Python\n",
        "\n",
        "Pesquise uma biblioteca de hash (SHA-256) em Python e realize pelo menos 10 testes no total, registre os resultados em uma tabela e elabore uma descrição textual do método utilizado e dos resultados obtidos. "
      ],
      "metadata": {
        "id": "AiWS7Wx2cRfn"
      }
    },
    {
      "cell_type": "markdown",
      "source": [
        "bibliotecas"
      ],
      "metadata": {
        "id": "XLdXKDPgRUJg"
      }
    },
    {
      "cell_type": "code",
      "source": [
        "import hashlib\n",
        "import time\n",
        "import base64\n",
        "from PIL import Image\n",
        "import pandas as pd"
      ],
      "metadata": {
        "id": "wD0Ub_t3j6gb"
      },
      "execution_count": 47,
      "outputs": []
    },
    {
      "cell_type": "code",
      "source": [
        "from google.colab import drive\n",
        "drive.mount('/content/drive')"
      ],
      "metadata": {
        "colab": {
          "base_uri": "https://localhost:8080/"
        },
        "id": "yTzlHKG2g9-Q",
        "outputId": "b3dbb11d-d7a5-425c-9d7e-9d32f77508b8"
      },
      "execution_count": 48,
      "outputs": [
        {
          "output_type": "stream",
          "name": "stdout",
          "text": [
            "Drive already mounted at /content/drive; to attempt to forcibly remount, call drive.mount(\"/content/drive\", force_remount=True).\n"
          ]
        }
      ]
    },
    {
      "cell_type": "markdown",
      "source": [
        "# Casos de teste"
      ],
      "metadata": {
        "id": "fECnwsc14fIt"
      }
    },
    {
      "cell_type": "markdown",
      "source": [
        "Conjuntos de entradas, condições e procedimentos que são usados para avaliar o comportamento e a saída de um software ou sistema. Ou seja, verificar se o software funciona conforme o esperado.\n"
      ],
      "metadata": {
        "id": "Lftk9d5H5PZk"
      }
    },
    {
      "cell_type": "markdown",
      "source": [
        "\n",
        "\n",
        "1. Trocar o valor de um dos itens da array, exibindo a mudança no hash\n",
        "\n",
        "2. Modificar uma letra em uma das strings de um array, exibindo a mudança no hash\n",
        "\n",
        "3. Gerar o hash de uma frase, e dado um hash esperado, comparar com o gerado. Espera-se receber um erro.\n",
        "\n",
        "4. Evitar colisões de hashs com entradas iguais\n",
        "\n",
        "5. Criar uma array, juntar todas as palavras em uma única frase, criar um hash da frase.\n",
        "\n",
        "6. Leitura de Hash de comprimentos e tipos variados\n",
        "\n",
        "7. Criar hash de string vazia\n",
        "\n",
        "8. Criar hash de uma imagem - modificar a imagem e comparar com o hash anterior\n",
        "\n",
        "9. Criar um hash de um arquivo em excel\n",
        "\n",
        "10. Criar um hash de um arquivo em txt\n"
      ],
      "metadata": {
        "id": "kGHnDByeEvdm"
      }
    },
    {
      "cell_type": "markdown",
      "source": [
        "\n",
        "\n",
        "## Caso de teste 1\n",
        "\n",
        "1. Trocar o valor de um dos itens da array, exibindo a mudança no hash\n"
      ],
      "metadata": {
        "id": "gvo3nGC5CwG2"
      }
    },
    {
      "cell_type": "markdown",
      "source": [
        "Criando um array com 10 números sortidos\n"
      ],
      "metadata": {
        "id": "h__yhxATBxtU"
      }
    },
    {
      "cell_type": "code",
      "source": [
        "numeros = [45, 63, 13, 135, 2463, 673, 987, 145, 12, 56]"
      ],
      "metadata": {
        "id": "xD70QKXN-2Gn"
      },
      "execution_count": 49,
      "outputs": []
    },
    {
      "cell_type": "markdown",
      "source": [
        "Exibindo o hash de todos os números do array"
      ],
      "metadata": {
        "id": "FkDgazhOB7cb"
      }
    },
    {
      "cell_type": "code",
      "source": [
        "for i in numeros:\n",
        "\n",
        "    # Transformar os números do array em string, depois converter em binário, no formato 'ascii'\n",
        "    numeroTransformado = str(i).encode('ascii')\n",
        "\n",
        "    # Cria-se um objeto com a base de números em bytes anterior, depois converte ele para hexadecimal\n",
        "    hashGerado = (hashlib.sha256(numeroTransformado)).hexdigest()\n",
        "    \n",
        "    # Exibe o hash gerado para cada número do array\n",
        "    print(f\"O hash SHA-256 de {i} é {hashGerado}\\n\")"
      ],
      "metadata": {
        "colab": {
          "base_uri": "https://localhost:8080/"
        },
        "id": "2XJfdN8W_pO6",
        "outputId": "83d05de9-f21e-49aa-ca5d-963a7d35f30c"
      },
      "execution_count": 50,
      "outputs": [
        {
          "output_type": "stream",
          "name": "stdout",
          "text": [
            "O hash SHA-256 de 45 é 811786ad1ae74adfdd20dd0372abaaebc6246e343aebd01da0bfc4c02bf0106c\n",
            "\n",
            "O hash SHA-256 de 63 é da4ea2a5506f2693eae190d9360a1f31793c98a1adade51d93533a6f520ace1c\n",
            "\n",
            "O hash SHA-256 de 13 é 3fdba35f04dc8c462986c992bcf875546257113072a909c162f7e470e581e278\n",
            "\n",
            "O hash SHA-256 de 135 é 13671077b66a29874a2578b5240319092ef2a1043228e433e9b006b5e53e7513\n",
            "\n",
            "O hash SHA-256 de 2463 é 1b13011c30bd00eb0c56dd0aefcdec3fb1f2a4920e00efc8c88e54cbcaf9365a\n",
            "\n",
            "O hash SHA-256 de 673 é f4466a4b51d21014b34f621813a1ed75f1c750ec328d908d9edc989c64778962\n",
            "\n",
            "O hash SHA-256 de 987 é 55c8079ac96c6a4f6a94e3460c79e4006d62374cce6e9fc8b281938a3abc7627\n",
            "\n",
            "O hash SHA-256 de 145 é be47addbcb8f60566a3d7fd5a36f8195798e2848b368195d9a5d20e007c59a0c\n",
            "\n",
            "O hash SHA-256 de 12 é 6b51d431df5d7f141cbececcf79edf3dd861c3b4069f0b11661a3eefacbba918\n",
            "\n",
            "O hash SHA-256 de 56 é 7688b6ef52555962d008fff894223582c484517cea7da49ee67800adc7fc8866\n",
            "\n"
          ]
        }
      ]
    },
    {
      "cell_type": "markdown",
      "source": [
        "Após gerar o hash, troca-se o item 0 do array, sendo do número 45 para 5. "
      ],
      "metadata": {
        "id": "V13ig5BfB1sw"
      }
    },
    {
      "cell_type": "code",
      "source": [
        "numeros[0] = 5  # trocar o valor da posição 0 por 5\n",
        "\n",
        "numeros # Exibe novamente o array"
      ],
      "metadata": {
        "colab": {
          "base_uri": "https://localhost:8080/"
        },
        "id": "xgylYmgLEl8H",
        "outputId": "de5cf436-7933-4dac-8de4-cb95c790365a"
      },
      "execution_count": 51,
      "outputs": [
        {
          "output_type": "execute_result",
          "data": {
            "text/plain": [
              "[5, 63, 13, 135, 2463, 673, 987, 145, 12, 56]"
            ]
          },
          "metadata": {},
          "execution_count": 51
        }
      ]
    },
    {
      "cell_type": "markdown",
      "source": [
        "Com a mudança realizada, exibe-se o hash atualizado da posição 0 do array criado."
      ],
      "metadata": {
        "id": "C9OkskvHcuBg"
      }
    },
    {
      "cell_type": "code",
      "source": [
        "primeiraPosicao = str(numeros[0]).encode('ascii') # Transforma a primeira posição do array em string, depois converter em binário, no formato 'ascii'\n",
        "\n",
        "hashGeradoDoArray = (hashlib.sha256(primeiraPosicao)).hexdigest() # Cria-se um objeto com a base de números em bytes anterior, depois converte ele para hexadecimal\n",
        "\n",
        "print(\"O hash SHA-256 do primeiro item do array é\", hashGeradoDoArray)  # Exibe o hashda primeira posição do array"
      ],
      "metadata": {
        "colab": {
          "base_uri": "https://localhost:8080/"
        },
        "id": "d4dNIehA_3lx",
        "outputId": "61eca53d-8985-41ea-c49b-c9b42e83c184"
      },
      "execution_count": 52,
      "outputs": [
        {
          "output_type": "stream",
          "name": "stdout",
          "text": [
            "O hash SHA-256 do primeiro item do array é ef2d127de37b942baad06145e54b0c619a1f22327b2ebbcfbec78f5564afe39d\n"
          ]
        }
      ]
    },
    {
      "cell_type": "markdown",
      "source": [
        "**Resultado**\n",
        "\n",
        "\n",
        "\n",
        "1.   Hash de 45\n",
        "\n",
        "\n",
        "```\n",
        "O hash SHA-256 de 45 é 811786ad1ae74adfdd20dd0372abaaebc6246e343aebd01da0bfc4c02bf0106c\n",
        "```\n",
        "\n",
        "\n",
        "2.   Hash de 5\n",
        "\n",
        "\n",
        "```\n",
        "O hash SHA-256 de 5 é  ef2d127de37b942baad06145e54b0c619a1f22327b2ebbcfbec78f5564afe39d\n",
        "```\n",
        "\n",
        "\n",
        "\n"
      ],
      "metadata": {
        "id": "f5HL0l-gdqdH"
      }
    },
    {
      "cell_type": "markdown",
      "source": [
        "Validando o caso de teste"
      ],
      "metadata": {
        "id": "2H3BHmUkeA3J"
      }
    },
    {
      "cell_type": "code",
      "source": [
        "if hashGeradoDoArray != \"811786ad1ae74adfdd20dd0372abaaebc6246e343aebd01da0bfc4c02bf0106c\":\n",
        "\n",
        "    print(\"Teste Validado: Trocar o valor de um dos itens da array, exibindo a mudança no hash\")\n",
        "\n",
        "else:\n",
        "    print(\"Teste Inválido: Trocar o valor de um dos itens da array, exibindo a mudança no hash\")"
      ],
      "metadata": {
        "colab": {
          "base_uri": "https://localhost:8080/"
        },
        "id": "T00UD6-TeCli",
        "outputId": "99742a2a-bcf1-4a7c-bbba-6f4b4e5ba115"
      },
      "execution_count": 53,
      "outputs": [
        {
          "output_type": "stream",
          "name": "stdout",
          "text": [
            "Teste Validado: Trocar o valor de um dos itens da array, exibindo a mudança no hash\n"
          ]
        }
      ]
    },
    {
      "cell_type": "markdown",
      "source": [
        "## Caso de teste 2\n",
        "\n",
        "2. Modificar uma letra em uma das strings de um array, exibindo a mudança no hash"
      ],
      "metadata": {
        "id": "zXCvNxbcDBFW"
      }
    },
    {
      "cell_type": "markdown",
      "source": [
        "Criando um array com 10 nomes aleatórios"
      ],
      "metadata": {
        "id": "8bzI5JABgJxh"
      }
    },
    {
      "cell_type": "code",
      "source": [
        "nomes = [\"Vinicius\", \"Giovanna\", \"Thaina\", \"Rodrigo\", \"Dayllan\", \"Elias\", \"Pedro\", \"Amanda\", \"Bianca\", \"Jordan\"]"
      ],
      "metadata": {
        "id": "PmEndWuxDFSV"
      },
      "execution_count": 54,
      "outputs": []
    },
    {
      "cell_type": "markdown",
      "source": [
        "Gerando o hash de cada nome da array"
      ],
      "metadata": {
        "id": "tuhkOkqVgOX8"
      }
    },
    {
      "cell_type": "code",
      "source": [
        "for x in nomes:\n",
        "\n",
        "    # Converter as strings em binário, no formato 'ascii'\n",
        "    nomesArray = x.encode('ascii')\n",
        "\n",
        "    # Cria-se um objeto com a base de números em bytes anterior, depois converte ele para hexadecimal\n",
        "    hashNomes = (hashlib.sha256(nomesArray)).hexdigest()\n",
        "\n",
        "    # Exibe o hash gerado para cada string do array\n",
        "    print(f\"O hash SHA-256 de {x} é {hashNomes}.\\n\")\n"
      ],
      "metadata": {
        "colab": {
          "base_uri": "https://localhost:8080/"
        },
        "id": "ib_jpEJtE-t7",
        "outputId": "3e565c92-860f-45ca-cc8b-1edaf17f4200"
      },
      "execution_count": 55,
      "outputs": [
        {
          "output_type": "stream",
          "name": "stdout",
          "text": [
            "O hash SHA-256 de Vinicius é 447e15e9015be29a65680af43c8b370b86ef87936c27c1ff7e66a2096b2f9c58.\n",
            "\n",
            "O hash SHA-256 de Giovanna é 37d2ebf8f95bac9ef8cc9289598304b9556630df262060c1da18fe38ebf6b9e0.\n",
            "\n",
            "O hash SHA-256 de Thaina é 5bed0609f4080d3452adbd860ee568d7b0106c2bda55b27a5ac0267632b9cc0f.\n",
            "\n",
            "O hash SHA-256 de Rodrigo é d7202b1530bbef4afa8a7b5b33df78af1fb3c6cbd1d42fda5a4e033e6dfde736.\n",
            "\n",
            "O hash SHA-256 de Dayllan é c4c6a7704a268f323398cfc5ab2631b9970e5cc76005f228e54ad28e684aa189.\n",
            "\n",
            "O hash SHA-256 de Elias é be81d309088dde861ab5fc4d62d4bbfe0aeef3e3baf2f5362c1086f451f0a1e7.\n",
            "\n",
            "O hash SHA-256 de Pedro é a432d817e884eb8bd3953177b68c747b64d8d6a705b79787445750bf80fe55b6.\n",
            "\n",
            "O hash SHA-256 de Amanda é 161b5245e4bb6c5fb99407313df9c260dad0e973cc73935572b20913dec08348.\n",
            "\n",
            "O hash SHA-256 de Bianca é a13026554fe4000b974918c52f7cc15c8ddcd1d95ee476eae483828282e749a1.\n",
            "\n",
            "O hash SHA-256 de Jordan é e8bfe1ed693510570ced8b5ee70049cc4b985a77ec066ee345892f685d72cca6.\n",
            "\n"
          ]
        }
      ]
    },
    {
      "cell_type": "markdown",
      "source": [
        "Exclui-se uma letra \"l\" do nome \"Dayllan\""
      ],
      "metadata": {
        "id": "oJLFe1fYg1tm"
      }
    },
    {
      "cell_type": "code",
      "source": [
        "nomes[4] = \"Daylan\" # Alterando a posição 4 do array\n",
        "\n",
        "nomes # Exibindo o novo array"
      ],
      "metadata": {
        "colab": {
          "base_uri": "https://localhost:8080/"
        },
        "id": "gE9Ya-ZqFAeA",
        "outputId": "857be673-e844-4fdb-c197-5dd796da1572"
      },
      "execution_count": 56,
      "outputs": [
        {
          "output_type": "execute_result",
          "data": {
            "text/plain": [
              "['Vinicius',\n",
              " 'Giovanna',\n",
              " 'Thaina',\n",
              " 'Rodrigo',\n",
              " 'Daylan',\n",
              " 'Elias',\n",
              " 'Pedro',\n",
              " 'Amanda',\n",
              " 'Bianca',\n",
              " 'Jordan']"
            ]
          },
          "metadata": {},
          "execution_count": 56
        }
      ]
    },
    {
      "cell_type": "markdown",
      "source": [
        "Criando um hash da posição 4 modificada"
      ],
      "metadata": {
        "id": "vkF1ljd7jsiO"
      }
    },
    {
      "cell_type": "code",
      "source": [
        "QuartaPosicao = nomes[4].encode('ascii') # Converter em binário a quarta posição do array, no formato 'ascii'\n",
        "\n",
        "hashGeradoNomes = (hashlib.sha256(QuartaPosicao)).hexdigest() # Cria-se um objeto com a base de números em bytes anterior, depois converte ele para hexadecimal\n",
        "\n",
        "print(\"O hash SHA-256 da quarta posição do array é\", hashGeradoNomes)  # Exibe o hash da quarta posição do array"
      ],
      "metadata": {
        "colab": {
          "base_uri": "https://localhost:8080/"
        },
        "id": "RfdrxcAYFDE2",
        "outputId": "e74a125c-d2eb-4930-c395-e7a4be7a044f"
      },
      "execution_count": 57,
      "outputs": [
        {
          "output_type": "stream",
          "name": "stdout",
          "text": [
            "O hash SHA-256 da quarta posição do array é 32f0bd5dc1f817bd8edb2657bba587d27c6181a7275a05e0733c5943d156faa9\n"
          ]
        }
      ]
    },
    {
      "cell_type": "markdown",
      "source": [
        "**Resultado**\n",
        "\n",
        "\n",
        "\n",
        "1.   Hash de Dayllan\n",
        "\n",
        "\n",
        "```\n",
        "O hash SHA-256 de Dayllan é c4c6a7704a268f323398cfc5ab2631b9970e5cc76005f228e54ad28e684aa189\n",
        "```\n",
        "\n",
        "\n",
        "2.   Hash de Daylan\n",
        "\n",
        "\n",
        "```\n",
        "O hash SHA-256 de Daylan é  32f0bd5dc1f817bd8edb2657bba587d27c6181a7275a05e0733c5943d156faa9\n",
        "```\n",
        "\n",
        "\n",
        "\n"
      ],
      "metadata": {
        "id": "_gk7UO2JkHkj"
      }
    },
    {
      "cell_type": "markdown",
      "source": [
        "Validando o caso de teste"
      ],
      "metadata": {
        "id": "f6H68Gebkm4c"
      }
    },
    {
      "cell_type": "code",
      "source": [
        "if hashGeradoNomes != \"c4c6a7704a268f323398cfc5ab2631b9970e5cc76005f228e54ad28e684aa189\":\n",
        "\n",
        "    print(\"Teste Validado: Modificar uma letra em uma das strings de um array, exibindo a mudança no hash\")\n",
        "\n",
        "else:\n",
        "    print(\"Teste Inválido: Modificar uma letra em uma das strings de um array, exibindo a mudança no hash\")"
      ],
      "metadata": {
        "colab": {
          "base_uri": "https://localhost:8080/"
        },
        "id": "_saiGao9kmaS",
        "outputId": "26cd02a7-d4e8-4ee5-9c7d-6059230cf3d5"
      },
      "execution_count": 58,
      "outputs": [
        {
          "output_type": "stream",
          "name": "stdout",
          "text": [
            "Teste Validado: Modificar uma letra em uma das strings de um array, exibindo a mudança no hash\n"
          ]
        }
      ]
    },
    {
      "cell_type": "markdown",
      "source": [
        "## Caso de teste 3\n",
        "\n",
        "3. Gerar o hash de uma frase, e dado um hash esperado, comparar com o gerado. Espera-se receber um erro. "
      ],
      "metadata": {
        "id": "VjwcymE9GhuV"
      }
    },
    {
      "cell_type": "markdown",
      "source": [
        "Definindo uma frase e gerando o hash dela"
      ],
      "metadata": {
        "id": "hJ4RGxGbHTbv"
      }
    },
    {
      "cell_type": "code",
      "source": [
        "frase = \"Sempre para frente. Nunca para trás!\" # Definição da frase a ser utilizada\n",
        "\n",
        "hashFrase = hashlib.sha256(frase.encode()).hexdigest()  # Cria-se um objeto com a base de números em bytes anterior, depois converte ele para hexadecimal\n",
        "\n",
        "print(f\"O hash SHA-256 de '{frase}' é {hashFrase }.\\n\")  # Exibe o hash da frase\n"
      ],
      "metadata": {
        "colab": {
          "base_uri": "https://localhost:8080/"
        },
        "id": "X_iHR4rAHE91",
        "outputId": "8d1b194c-b1f6-4ebb-e2b5-9a0d5d752e7a"
      },
      "execution_count": 59,
      "outputs": [
        {
          "output_type": "stream",
          "name": "stdout",
          "text": [
            "O hash SHA-256 de 'Sempre para frente. Nunca para trás!' é 7b235df462c1b220420c0840aae71e13cca2346696d6bee48626f71a38891a73.\n",
            "\n"
          ]
        }
      ]
    },
    {
      "cell_type": "markdown",
      "source": [
        "Gerando o hash da frase, removendo o ponto de exclamação. '!'"
      ],
      "metadata": {
        "id": "Bruo0Te1mT0y"
      }
    },
    {
      "cell_type": "code",
      "source": [
        "fraseAtualizada = \"Sempre para frente. Nunca para trás\" # Definição da frase a ser utilizada\n",
        "\n",
        "hashFraseAtualizada = hashlib.sha256(fraseAtualizada.encode()).hexdigest()  # Cria-se um objeto com a base de números em bytes anterior, depois converte ele para hexadecimal\n",
        "\n",
        "print(f\"O hash SHA-256 de '{fraseAtualizada}' é {hashFraseAtualizada }.\\n\")  # Exibe o hash da frase"
      ],
      "metadata": {
        "colab": {
          "base_uri": "https://localhost:8080/"
        },
        "id": "gpIDqNxumZdJ",
        "outputId": "3b051a95-8e7f-4531-978c-271b484fc0c8"
      },
      "execution_count": 60,
      "outputs": [
        {
          "output_type": "stream",
          "name": "stdout",
          "text": [
            "O hash SHA-256 de 'Sempre para frente. Nunca para trás' é d8a75c6759bcc334e204e4714eedcdc3f5f352c7e069870c496be95da941456c.\n",
            "\n"
          ]
        }
      ]
    },
    {
      "cell_type": "markdown",
      "source": [
        "**Resultado**\n",
        "\n",
        "\n",
        "\n",
        "1.   Hash de \"Sempre para frente. Nunca para trás!\"\n",
        "\n",
        "\n",
        "```\n",
        "O hash SHA-256 de \"Sempre para frente. Nunca para trás!\" é 7b235df462c1b220420c0840aae71e13cca2346696d6bee48626f71a38891a73.\n",
        "```\n",
        "\n",
        "\n",
        "2.   Hash de \"Sempre para frente. Nunca para trás\"\n",
        "\n",
        "\n",
        "```\n",
        "O hash SHA-256 de \"Sempre para frente. Nunca para trás\" é  d8a75c6759bcc334e204e4714eedcdc3f5f352c7e069870c496be95da941456c.\n",
        "```\n",
        "\n",
        "\n",
        "\n"
      ],
      "metadata": {
        "id": "Qor7eg1yn-Xe"
      }
    },
    {
      "cell_type": "markdown",
      "source": [
        "Validando o caso de teste"
      ],
      "metadata": {
        "id": "rEHg3VAImaBt"
      }
    },
    {
      "cell_type": "code",
      "source": [
        "if hashFrase == hashFraseAtualizada:\n",
        "    print(\"Teste Válido: Gerar o hash de uma frase, e dado um hash esperado, comparar com o gerado. Espera-se receber um erro.\")\n",
        "else:\n",
        "    print(\"Teste Inválido: Gerar o hash de uma frase, e dado um hash esperado, comparar com o gerado. Espera-se receber um erro.\")"
      ],
      "metadata": {
        "colab": {
          "base_uri": "https://localhost:8080/"
        },
        "id": "jLeuQkkgGmYD",
        "outputId": "48231769-07bb-499e-a376-9568d80a1475"
      },
      "execution_count": 61,
      "outputs": [
        {
          "output_type": "stream",
          "name": "stdout",
          "text": [
            "Teste Inválido: Gerar o hash de uma frase, e dado um hash esperado, comparar com o gerado. Espera-se receber um erro.\n"
          ]
        }
      ]
    },
    {
      "cell_type": "markdown",
      "source": [
        "## Caso de teste 4\n",
        "\n",
        "4. Evitar colisões de hashs com entradas iguais "
      ],
      "metadata": {
        "id": "a7_faHyQKf2_"
      }
    },
    {
      "cell_type": "markdown",
      "source": [
        "Definir a frase e salvar o momento em que ela foi gerada, criando um hash"
      ],
      "metadata": {
        "id": "qX1y-4J6_8Wj"
      }
    },
    {
      "cell_type": "code",
      "source": [
        "fraseColisao1 = \"Continue a nadar\" # frase definida para a colisão\n",
        "\n",
        "nonce = str(int(time.time() * 1000))  # gera um nonce baseado no horário atual em milissegundos\n",
        "\n",
        "hashFrase1 = hashlib.sha256((fraseColisao1 + nonce).encode()).hexdigest() # Cria-se um objeto com a base de números em bytes anterior, depois converte ele para hexadecimal"
      ],
      "metadata": {
        "id": "yAE9Da5pOwpi"
      },
      "execution_count": 62,
      "outputs": []
    },
    {
      "cell_type": "markdown",
      "source": [
        "Definir a frase igual e salvar o momento em que ela foi gerada, criando um novo hash"
      ],
      "metadata": {
        "id": "quzNF0e9AEMy"
      }
    },
    {
      "cell_type": "code",
      "source": [
        "fraseColisao2 = \"Continue a nadar\" # frase definida para a colisão\n",
        "\n",
        "nonce = str(int(time.time() * 1000))  # gera um nonce baseado no horário atual em milissegundos\n",
        "\n",
        "hashFrase2 = hashlib.sha256((fraseColisao2 + nonce).encode()).hexdigest() # Cria-se um objeto com a base de números em bytes anterior, depois converte ele para hexadecimal"
      ],
      "metadata": {
        "id": "KvX_y5mYOwwi"
      },
      "execution_count": 63,
      "outputs": []
    },
    {
      "cell_type": "markdown",
      "source": [
        "**Comparação**\n",
        "\n",
        "1. Hash Frase 1 : \n",
        "\n",
        "\n",
        "```\n",
        "  955ed4fb20b03d445d779d7084458f933cafe269d07f63a3fd9929103c020a6d\n",
        "```\n",
        "\n",
        "2. Hash Frase 2: \n",
        "\n",
        "```\n",
        "b9cfdc1a1d69495731fc263b55f0e5c2322b6fa283c0c33825f0d8659042103d\n",
        "```\n",
        "\n"
      ],
      "metadata": {
        "id": "CBpxZ_XTuY_6"
      }
    },
    {
      "cell_type": "markdown",
      "source": [
        "Validação do caso de teste"
      ],
      "metadata": {
        "id": "SG98ktlw_5d0"
      }
    },
    {
      "cell_type": "code",
      "source": [
        "if hashFrase1 == hashFrase2:\n",
        "    print(\"Teste Inválido: Evitar colisões de hashs com entradas iguais\")\n",
        "else:\n",
        "    print(\"Teste Válido: Evitar colisões de hashs com entradas iguais\")"
      ],
      "metadata": {
        "colab": {
          "base_uri": "https://localhost:8080/"
        },
        "id": "Q2QUL_MPKpkk",
        "outputId": "58b138c5-a68d-45d2-edf8-cbbcb8946eda"
      },
      "execution_count": 64,
      "outputs": [
        {
          "output_type": "stream",
          "name": "stdout",
          "text": [
            "Teste Válido: Evitar colisões de hashs com entradas iguais\n"
          ]
        }
      ]
    },
    {
      "cell_type": "markdown",
      "source": [
        "## Caso de teste 5\n",
        "\n",
        "5. Criar uma array, juntar todas as palavras em uma única frase, criar um hash da frase. \n",
        "\n",
        "OBS: Comparar se o Hash da frase, é igual ao hash das palavras juntas sem espaço. "
      ],
      "metadata": {
        "id": "2WAJ7d4SNQJQ"
      }
    },
    {
      "cell_type": "markdown",
      "source": [
        "Definindo o array de palavras"
      ],
      "metadata": {
        "id": "6ATTymemB7Vv"
      }
    },
    {
      "cell_type": "code",
      "source": [
        "palavras = [\"As\", \"imperfeições\", \"definem\", \"a\", \"perfeição\"] # cria o array de palavras"
      ],
      "metadata": {
        "id": "OkdTzu7GCAoq"
      },
      "execution_count": 65,
      "outputs": []
    },
    {
      "cell_type": "markdown",
      "source": [
        "Juntando as palavras do array em uma frase, com espaços e gerando o hash."
      ],
      "metadata": {
        "id": "0161DWv3CDHR"
      }
    },
    {
      "cell_type": "code",
      "source": [
        "fraseCompleta = \" \".join(palavras) # junta o array em uma única frase\n",
        "\n",
        "hashFraseCompleta = hashlib.sha256(fraseCompleta.encode()).hexdigest() # Cria-se um objeto com a base de números em bytes anterior, depois converte ele para hexadecimal\n",
        "\n",
        "print(\"Hash da frase com espaço:\", hashFraseCompleta)"
      ],
      "metadata": {
        "id": "ZslO7edFRxAM",
        "colab": {
          "base_uri": "https://localhost:8080/"
        },
        "outputId": "baaff319-f4db-4a32-b845-36e5294a5026"
      },
      "execution_count": 66,
      "outputs": [
        {
          "output_type": "stream",
          "name": "stdout",
          "text": [
            "Hash da frase com espaço: 77182fed7871bae833ec84a8ee9040aadc976bce993fdc9d3181eda958713b1a\n"
          ]
        }
      ]
    },
    {
      "cell_type": "markdown",
      "source": [
        "Juntando as palavras do array em uma frase, sem espaços e gerando o hash."
      ],
      "metadata": {
        "id": "E3x5IKdlCH3U"
      }
    },
    {
      "cell_type": "code",
      "source": [
        "fraseCompletaSemEspaco = \"\".join(palavras) # junta o array em uma única frase\n",
        "\n",
        "hashFraseCompletaSemEspaco = hashlib.sha256(fraseCompletaSemEspaco.encode()).hexdigest() # Cria-se um objeto com a base de números em bytes anterior, depois converte ele para hexadecimal\n",
        "\n",
        "print(\"Hash da frase sem espaço:\", hashFraseCompletaSemEspaco)"
      ],
      "metadata": {
        "colab": {
          "base_uri": "https://localhost:8080/"
        },
        "id": "NeqGhamGBqqu",
        "outputId": "4a23ce7d-3ef4-424a-f696-b2047f863dcd"
      },
      "execution_count": 67,
      "outputs": [
        {
          "output_type": "stream",
          "name": "stdout",
          "text": [
            "Hash da frase sem espaço: af1bdf31df28f7963b6e823b2072f0e508a56ceae414308d8c714492592d9e39\n"
          ]
        }
      ]
    },
    {
      "cell_type": "markdown",
      "source": [
        "**Comparação**\n",
        "\n",
        "\n",
        "\n",
        "1.   Hash da frase com espaços\n",
        "\n",
        "\n",
        "```\n",
        "77182fed7871bae833ec84a8ee9040aadc976bce993fdc9d3181eda958713b1a\n",
        "```\n",
        "\n",
        "\n",
        "2.  Hash da frase em espaços\n",
        "\n",
        "\n",
        "```\n",
        "af1bdf31df28f7963b6e823b2072f0e508a56ceae414308d8c714492592d9e39\n",
        "```\n",
        "\n",
        "\n",
        "\n"
      ],
      "metadata": {
        "id": "cNIq3yHkCJ0U"
      }
    },
    {
      "cell_type": "markdown",
      "source": [
        "Validando caso de teste"
      ],
      "metadata": {
        "id": "g_PjLGYJCeKB"
      }
    },
    {
      "cell_type": "code",
      "source": [
        "if hashFraseCompleta == hashFraseCompletaSemEspaco:\n",
        "    print(\"Teste Inválido: Criar uma array, juntar todas as palavras em uma única frase, criar um hash da frase.\")\n",
        "else:\n",
        "    print(\"Teste Válido: Criar uma array, juntar todas as palavras em uma única frase, criar um hash da frase.\")"
      ],
      "metadata": {
        "colab": {
          "base_uri": "https://localhost:8080/"
        },
        "id": "6qV88sFoCdcI",
        "outputId": "f11521bd-e11b-4af1-e3f5-543f4344b050"
      },
      "execution_count": 68,
      "outputs": [
        {
          "output_type": "stream",
          "name": "stdout",
          "text": [
            "Teste Válido: Criar uma array, juntar todas as palavras em uma única frase, criar um hash da frase.\n"
          ]
        }
      ]
    },
    {
      "cell_type": "markdown",
      "source": [
        "## Caso de teste 6\n",
        "\n",
        "6. Leitura de Hash de comprimentos e tipos variados"
      ],
      "metadata": {
        "id": "LQV1CnnsRgRK"
      }
    },
    {
      "cell_type": "markdown",
      "source": [],
      "metadata": {
        "id": "X_b7nYWGC9MK"
      }
    },
    {
      "cell_type": "code",
      "source": [
        "entradas = [] # Definição de um array de entradas do usuário\n",
        "\n",
        "for z in range (5):\n",
        "\n",
        "    entrada = input(\"Digite uma entrada: \") # Armazena a entrada do usuário em uma variável\n",
        "\n",
        "    entradas.append(entrada) # Coloca as entradas do usuário dentro de uma array"
      ],
      "metadata": {
        "colab": {
          "base_uri": "https://localhost:8080/"
        },
        "id": "AE_wjdFvDIwl",
        "outputId": "61da0eaf-5354-4b5d-f1be-13f08b7dfa3d"
      },
      "execution_count": 69,
      "outputs": [
        {
          "name": "stdout",
          "output_type": "stream",
          "text": [
            "Digite uma entrada: 2\n",
            "Digite uma entrada: h2\n",
            "Digite uma entrada: h15\n",
            "Digite uma entrada: h13\n",
            "Digite uma entrada: h16\n"
          ]
        }
      ]
    },
    {
      "cell_type": "code",
      "source": [
        "entradas # Resultados das entradas no array"
      ],
      "metadata": {
        "colab": {
          "base_uri": "https://localhost:8080/"
        },
        "id": "qeY0xDDFUyjb",
        "outputId": "a0a0d258-3f2e-49e5-bd0a-939eff50cf88"
      },
      "execution_count": 70,
      "outputs": [
        {
          "output_type": "execute_result",
          "data": {
            "text/plain": [
              "['2', 'h2', 'h15', 'h13', 'h16']"
            ]
          },
          "metadata": {},
          "execution_count": 70
        }
      ]
    },
    {
      "cell_type": "code",
      "source": [
        "quantidadeEntradas = 0 # Armazenar a quantidade de hash gerados com base nas entradas\n",
        "\n",
        "for entrada in entradas: \n",
        "\n",
        "    hasshGeradoEntradas = (hashlib.sha256(entrada.encode())).hexdigest() # Cria-se um objeto com a base de números em bytes anterior, depois converte ele para hexadecimal\n",
        "\n",
        "    quantidadeEntradas += 1 # Adicionar a quantidade de entradas na variável \n",
        "\n",
        "    print(f\"Hash da entrada '{entrada}': {hasshGeradoEntradas}\\n\") # Print das entradas com o hash"
      ],
      "metadata": {
        "colab": {
          "base_uri": "https://localhost:8080/"
        },
        "id": "GiWI0tkYUy-J",
        "outputId": "d6c4651c-5dda-41b3-d5bb-1c2d61179924"
      },
      "execution_count": 71,
      "outputs": [
        {
          "output_type": "stream",
          "name": "stdout",
          "text": [
            "Hash da entrada '2': d4735e3a265e16eee03f59718b9b5d03019c07d8b6c51f90da3a666eec13ab35\n",
            "\n",
            "Hash da entrada 'h2': f998fe06afa0cfbe73e0449dc2b1698309e1b5714960f027b2858312b152c275\n",
            "\n",
            "Hash da entrada 'h15': e619bea797c58ee136390519543169a4e3c851a3c260ac35c5f9d58f8182e568\n",
            "\n",
            "Hash da entrada 'h13': f6fbcc7773c3a8f6c8e8e9bb445892cee0045142a8042c21c3332d105e7d990e\n",
            "\n",
            "Hash da entrada 'h16': b23005fa6dfd50ad7853be5c263da7cf90337f46d7bc9ad9dbba4f61150a1864\n",
            "\n"
          ]
        }
      ]
    },
    {
      "cell_type": "markdown",
      "source": [
        "Validação caso de teste"
      ],
      "metadata": {
        "id": "edpCu-OGbWlf"
      }
    },
    {
      "cell_type": "code",
      "source": [
        "if quantidadeEntradas == len(entradas) : \n",
        "    print(\"Teste Válido: Leitura de Hash de comprimentos e tipos variados\")\n",
        "else:\n",
        "    print(\"Teste Inválido: Leitura de Hash de comprimentos e tipos variados\")"
      ],
      "metadata": {
        "colab": {
          "base_uri": "https://localhost:8080/"
        },
        "id": "68ci-pxHbpAb",
        "outputId": "13150488-39df-4c92-84cc-b450cb321c88"
      },
      "execution_count": 72,
      "outputs": [
        {
          "output_type": "stream",
          "name": "stdout",
          "text": [
            "Teste Válido: Leitura de Hash de comprimentos e tipos variados\n"
          ]
        }
      ]
    },
    {
      "cell_type": "markdown",
      "source": [
        "## Caso de teste 7\n",
        "\n",
        "7. Criar hash de string vazia"
      ],
      "metadata": {
        "id": "tB2B1FGfRxgt"
      }
    },
    {
      "cell_type": "code",
      "source": [
        "stringVazia = \"\" # Definição da string utilizada\n",
        "\n",
        "hashStringVazia = hashlib.sha256(stringVazia.encode()).hexdigest() # Cria-se um objeto com a base de números em bytes anterior, depois converte ele para hexadecimal\n",
        "\n",
        "hashStringVazia # Resultado do Hash"
      ],
      "metadata": {
        "colab": {
          "base_uri": "https://localhost:8080/",
          "height": 36
        },
        "id": "bfYmQ1YcW2h_",
        "outputId": "d1e66d7a-0efa-48a7-e0af-8bb76059561a"
      },
      "execution_count": 73,
      "outputs": [
        {
          "output_type": "execute_result",
          "data": {
            "text/plain": [
              "'e3b0c44298fc1c149afbf4c8996fb92427ae41e4649b934ca495991b7852b855'"
            ],
            "application/vnd.google.colaboratory.intrinsic+json": {
              "type": "string"
            }
          },
          "metadata": {},
          "execution_count": 73
        }
      ]
    },
    {
      "cell_type": "markdown",
      "source": [
        "Validação do caso de teste - Se o hash gerado foi o valor de hash para entradas vazias"
      ],
      "metadata": {
        "id": "oAEkl87kgHIv"
      }
    },
    {
      "cell_type": "code",
      "source": [
        "HashEsperada = \"e3b0c44298fc1c149afbf4c8996fb92427ae41e4649b934ca495991b7852b855\" # Hash padrão para string vazia\n",
        "\n",
        "if hashStringVazia == HashEsperada:\n",
        "    print(\"Teste Válido: Criar hash de string vazia\")\n",
        "else:\n",
        "    print(\"Teste Inválido: Criar hash de string vazia\")"
      ],
      "metadata": {
        "colab": {
          "base_uri": "https://localhost:8080/"
        },
        "id": "bLeNUu8bW2pP",
        "outputId": "2b239087-2cf9-4be6-cf9d-a73ac0cab9e8"
      },
      "execution_count": 74,
      "outputs": [
        {
          "output_type": "stream",
          "name": "stdout",
          "text": [
            "Teste Válido: Criar hash de string vazia\n"
          ]
        }
      ]
    },
    {
      "cell_type": "markdown",
      "source": [
        "## Caso de teste 8\n",
        "\n",
        "8. Criar hash de uma imagem - modificar a imagem e comparar com o hash anterior"
      ],
      "metadata": {
        "id": "8DGGs7UoRz6h"
      }
    },
    {
      "cell_type": "markdown",
      "source": [
        "Anexando uma imagem, realizando a conversão para 64 bytes, depois convertendo a mesma para hexadecimal, criando o hash"
      ],
      "metadata": {
        "id": "lNJmFRTfiNMh"
      }
    },
    {
      "cell_type": "code",
      "source": [
        "with open('/content/drive/MyDrive/AtividadesGiovanna/FotoGiovanna.jpg', 'rb') as foto: # Abre o arquivo da imagem em formato JPEG\n",
        "\n",
        "    imagem1 = Image.open(foto) # Abre a imagem do arquivo e armazenar em 'imagem1'\n",
        "\n",
        "    imagemConvertida1 = base64.b64encode(imagem1.tobytes()).decode('utf-8') # Conversão da imagem em bytes e codificado em base64\n",
        "\n",
        "    imagemHash1 =  hashlib.sha256(imagemConvertida1.encode()).hexdigest() # Cria-se um objeto com a base de números em bytes anterior, depois converte ele para hexadecimal\n",
        "\n",
        "    print(\" O Hash SHA-256 da primeira imagem é \", imagemHash1) # Exibe o hash gerado da imagem\n"
      ],
      "metadata": {
        "id": "wKeLwWYMR21N",
        "colab": {
          "base_uri": "https://localhost:8080/"
        },
        "outputId": "41854214-13ba-4ae3-d90c-5701bcfb2473"
      },
      "execution_count": 75,
      "outputs": [
        {
          "output_type": "stream",
          "name": "stdout",
          "text": [
            " O Hash SHA-256 da primeira imagem é  e6588a9df99c1727ee390f1bc7c976de8e70fbc5d3de0eac6b9909d132a83c27\n"
          ]
        }
      ]
    },
    {
      "cell_type": "markdown",
      "source": [
        "Modificando o tamanho da Imagem, para o hash verificar se o hash fica diferente"
      ],
      "metadata": {
        "id": "S7_I3zQXjSiF"
      }
    },
    {
      "cell_type": "code",
      "source": [
        "with open('/content/drive/MyDrive/AtividadesGiovanna/FotoGiovanna2.png', 'rb') as foto2: # Abre o arquivo da imagem em formato PNG\n",
        "\n",
        "    imagem2 = Image.open(foto2) # Abre a imagem do arquivo e armazenar em 'imagem2'\n",
        "\n",
        "    imagemConvertida2 = base64.b64encode(imagem2.tobytes()).decode('utf-8') # Conversão da imagem em bytes e codificado em base64\n",
        "\n",
        "    imagemHash2 =  hashlib.sha256(imagemConvertida2.encode()).hexdigest() # Cria-se um objeto com a base de números em bytes anterior, depois converte ele para hexadecimal\n",
        "\n",
        "    print(\" O Hash SHA-256 da segunda imagem é \", imagemHash2) # Exibe o hash gerado da imagem\n"
      ],
      "metadata": {
        "colab": {
          "base_uri": "https://localhost:8080/"
        },
        "id": "Ik7I0271jR4j",
        "outputId": "cfcb2448-ed0a-422b-901f-aecec9052a3c"
      },
      "execution_count": 76,
      "outputs": [
        {
          "output_type": "stream",
          "name": "stdout",
          "text": [
            " O Hash SHA-256 da segunda imagem é  946a8a3fe3298b2359fa0472c67b8b3b103a132d38f52cb4bbf6bb672c1e914f\n"
          ]
        }
      ]
    },
    {
      "cell_type": "markdown",
      "source": [
        "Validando caso de teste"
      ],
      "metadata": {
        "id": "Z8qPDSfCkfzv"
      }
    },
    {
      "cell_type": "code",
      "source": [
        "if imagemHash2 != imagemHash1:\n",
        "    print(\"Teste Válido: Criar hash de uma imagem - modificar a imagem e comparar com o hash anterior\\n\")\n",
        "    print(\"Os hash são diferentes!\")\n",
        "else:\n",
        "    print(\"Teste Inválido: Criar hash de uma imagem - modificar a imagem e comparar com o hash anterior\\n\")\n",
        "    print(\"Os hash são Iguais!\")"
      ],
      "metadata": {
        "colab": {
          "base_uri": "https://localhost:8080/"
        },
        "id": "o4E73FLWkhRQ",
        "outputId": "6249c127-0292-4049-c67d-f552e1929233"
      },
      "execution_count": 77,
      "outputs": [
        {
          "output_type": "stream",
          "name": "stdout",
          "text": [
            "Teste Válido: Criar hash de uma imagem - modificar a imagem e comparar com o hash anterior\n",
            "\n",
            "Os hash são diferentes!\n"
          ]
        }
      ]
    },
    {
      "cell_type": "markdown",
      "source": [
        "## Caso de teste 9\n",
        "\n",
        "9. Criar um hash de um arquivo em excel"
      ],
      "metadata": {
        "id": "DR8YORJdR0jw"
      }
    },
    {
      "cell_type": "markdown",
      "source": [
        "Importação da base de dados utilizada e visualização da planilha"
      ],
      "metadata": {
        "id": "Pr7L9tHK6CEB"
      }
    },
    {
      "cell_type": "code",
      "source": [
        "#Importação da Base de dados - Planilha Exemplo\n",
        "baseDeDados = pd.read_excel('/content/drive/MyDrive/AtividadesGiovanna/exemploDocumento.xlsx')\n",
        "\n",
        "baseDeDados # Visualização da planilha"
      ],
      "metadata": {
        "id": "n3prhicT310t",
        "colab": {
          "base_uri": "https://localhost:8080/",
          "height": 363
        },
        "outputId": "d953a732-7c22-4e38-8d67-adfe417c7941"
      },
      "execution_count": 78,
      "outputs": [
        {
          "output_type": "execute_result",
          "data": {
            "text/plain": [
              "   Tensão V  Resistor Ω  medida A\n",
              "0       2.0      2000.0    0.0010\n",
              "1      40.0      2000.0    0.0200\n",
              "2      66.0      2000.0    0.0330\n",
              "3      42.0      2000.0    0.0210\n",
              "4      76.0      2000.0    0.0380\n",
              "5      37.0      2000.0    0.0185\n",
              "6      20.0      2000.0    0.0100\n",
              "7      67.0      2000.0    0.0335\n",
              "8      99.0      2000.0    0.0495\n",
              "9     100.0      2000.0    0.0500"
            ],
            "text/html": [
              "\n",
              "  <div id=\"df-b65a4957-eb03-4fe3-9493-eb6971b5f213\">\n",
              "    <div class=\"colab-df-container\">\n",
              "      <div>\n",
              "<style scoped>\n",
              "    .dataframe tbody tr th:only-of-type {\n",
              "        vertical-align: middle;\n",
              "    }\n",
              "\n",
              "    .dataframe tbody tr th {\n",
              "        vertical-align: top;\n",
              "    }\n",
              "\n",
              "    .dataframe thead th {\n",
              "        text-align: right;\n",
              "    }\n",
              "</style>\n",
              "<table border=\"1\" class=\"dataframe\">\n",
              "  <thead>\n",
              "    <tr style=\"text-align: right;\">\n",
              "      <th></th>\n",
              "      <th>Tensão V</th>\n",
              "      <th>Resistor Ω</th>\n",
              "      <th>medida A</th>\n",
              "    </tr>\n",
              "  </thead>\n",
              "  <tbody>\n",
              "    <tr>\n",
              "      <th>0</th>\n",
              "      <td>2.0</td>\n",
              "      <td>2000.0</td>\n",
              "      <td>0.0010</td>\n",
              "    </tr>\n",
              "    <tr>\n",
              "      <th>1</th>\n",
              "      <td>40.0</td>\n",
              "      <td>2000.0</td>\n",
              "      <td>0.0200</td>\n",
              "    </tr>\n",
              "    <tr>\n",
              "      <th>2</th>\n",
              "      <td>66.0</td>\n",
              "      <td>2000.0</td>\n",
              "      <td>0.0330</td>\n",
              "    </tr>\n",
              "    <tr>\n",
              "      <th>3</th>\n",
              "      <td>42.0</td>\n",
              "      <td>2000.0</td>\n",
              "      <td>0.0210</td>\n",
              "    </tr>\n",
              "    <tr>\n",
              "      <th>4</th>\n",
              "      <td>76.0</td>\n",
              "      <td>2000.0</td>\n",
              "      <td>0.0380</td>\n",
              "    </tr>\n",
              "    <tr>\n",
              "      <th>5</th>\n",
              "      <td>37.0</td>\n",
              "      <td>2000.0</td>\n",
              "      <td>0.0185</td>\n",
              "    </tr>\n",
              "    <tr>\n",
              "      <th>6</th>\n",
              "      <td>20.0</td>\n",
              "      <td>2000.0</td>\n",
              "      <td>0.0100</td>\n",
              "    </tr>\n",
              "    <tr>\n",
              "      <th>7</th>\n",
              "      <td>67.0</td>\n",
              "      <td>2000.0</td>\n",
              "      <td>0.0335</td>\n",
              "    </tr>\n",
              "    <tr>\n",
              "      <th>8</th>\n",
              "      <td>99.0</td>\n",
              "      <td>2000.0</td>\n",
              "      <td>0.0495</td>\n",
              "    </tr>\n",
              "    <tr>\n",
              "      <th>9</th>\n",
              "      <td>100.0</td>\n",
              "      <td>2000.0</td>\n",
              "      <td>0.0500</td>\n",
              "    </tr>\n",
              "  </tbody>\n",
              "</table>\n",
              "</div>\n",
              "      <button class=\"colab-df-convert\" onclick=\"convertToInteractive('df-b65a4957-eb03-4fe3-9493-eb6971b5f213')\"\n",
              "              title=\"Convert this dataframe to an interactive table.\"\n",
              "              style=\"display:none;\">\n",
              "        \n",
              "  <svg xmlns=\"http://www.w3.org/2000/svg\" height=\"24px\"viewBox=\"0 0 24 24\"\n",
              "       width=\"24px\">\n",
              "    <path d=\"M0 0h24v24H0V0z\" fill=\"none\"/>\n",
              "    <path d=\"M18.56 5.44l.94 2.06.94-2.06 2.06-.94-2.06-.94-.94-2.06-.94 2.06-2.06.94zm-11 1L8.5 8.5l.94-2.06 2.06-.94-2.06-.94L8.5 2.5l-.94 2.06-2.06.94zm10 10l.94 2.06.94-2.06 2.06-.94-2.06-.94-.94-2.06-.94 2.06-2.06.94z\"/><path d=\"M17.41 7.96l-1.37-1.37c-.4-.4-.92-.59-1.43-.59-.52 0-1.04.2-1.43.59L10.3 9.45l-7.72 7.72c-.78.78-.78 2.05 0 2.83L4 21.41c.39.39.9.59 1.41.59.51 0 1.02-.2 1.41-.59l7.78-7.78 2.81-2.81c.8-.78.8-2.07 0-2.86zM5.41 20L4 18.59l7.72-7.72 1.47 1.35L5.41 20z\"/>\n",
              "  </svg>\n",
              "      </button>\n",
              "      \n",
              "  <style>\n",
              "    .colab-df-container {\n",
              "      display:flex;\n",
              "      flex-wrap:wrap;\n",
              "      gap: 12px;\n",
              "    }\n",
              "\n",
              "    .colab-df-convert {\n",
              "      background-color: #E8F0FE;\n",
              "      border: none;\n",
              "      border-radius: 50%;\n",
              "      cursor: pointer;\n",
              "      display: none;\n",
              "      fill: #1967D2;\n",
              "      height: 32px;\n",
              "      padding: 0 0 0 0;\n",
              "      width: 32px;\n",
              "    }\n",
              "\n",
              "    .colab-df-convert:hover {\n",
              "      background-color: #E2EBFA;\n",
              "      box-shadow: 0px 1px 2px rgba(60, 64, 67, 0.3), 0px 1px 3px 1px rgba(60, 64, 67, 0.15);\n",
              "      fill: #174EA6;\n",
              "    }\n",
              "\n",
              "    [theme=dark] .colab-df-convert {\n",
              "      background-color: #3B4455;\n",
              "      fill: #D2E3FC;\n",
              "    }\n",
              "\n",
              "    [theme=dark] .colab-df-convert:hover {\n",
              "      background-color: #434B5C;\n",
              "      box-shadow: 0px 1px 3px 1px rgba(0, 0, 0, 0.15);\n",
              "      filter: drop-shadow(0px 1px 2px rgba(0, 0, 0, 0.3));\n",
              "      fill: #FFFFFF;\n",
              "    }\n",
              "  </style>\n",
              "\n",
              "      <script>\n",
              "        const buttonEl =\n",
              "          document.querySelector('#df-b65a4957-eb03-4fe3-9493-eb6971b5f213 button.colab-df-convert');\n",
              "        buttonEl.style.display =\n",
              "          google.colab.kernel.accessAllowed ? 'block' : 'none';\n",
              "\n",
              "        async function convertToInteractive(key) {\n",
              "          const element = document.querySelector('#df-b65a4957-eb03-4fe3-9493-eb6971b5f213');\n",
              "          const dataTable =\n",
              "            await google.colab.kernel.invokeFunction('convertToInteractive',\n",
              "                                                     [key], {});\n",
              "          if (!dataTable) return;\n",
              "\n",
              "          const docLinkHtml = 'Like what you see? Visit the ' +\n",
              "            '<a target=\"_blank\" href=https://colab.research.google.com/notebooks/data_table.ipynb>data table notebook</a>'\n",
              "            + ' to learn more about interactive tables.';\n",
              "          element.innerHTML = '';\n",
              "          dataTable['output_type'] = 'display_data';\n",
              "          await google.colab.output.renderOutput(dataTable, element);\n",
              "          const docLink = document.createElement('div');\n",
              "          docLink.innerHTML = docLinkHtml;\n",
              "          element.appendChild(docLink);\n",
              "        }\n",
              "      </script>\n",
              "    </div>\n",
              "  </div>\n",
              "  "
            ]
          },
          "metadata": {},
          "execution_count": 78
        }
      ]
    },
    {
      "cell_type": "markdown",
      "source": [
        "Conversão da planilha e criação do hash"
      ],
      "metadata": {
        "id": "ZcLZk34Y6DBX"
      }
    },
    {
      "cell_type": "code",
      "source": [
        "planilhaConverter = baseDeDados.to_csv().encode() # Cria-se um objeto com o conteúdo da planilha em bytes\n",
        "\n",
        "hash_planilha = hashlib.sha256(planilhaConverter).hexdigest() # Calcula o hash do conteúdo da planilha\n",
        "\n",
        "print(\"O hash da planilha é \", hash_planilha) # Imprime o hash da planilha"
      ],
      "metadata": {
        "id": "WDIcBBd2R3W1",
        "colab": {
          "base_uri": "https://localhost:8080/"
        },
        "outputId": "1c5ad7ff-0dd3-4015-964a-5b7b99b61669"
      },
      "execution_count": 79,
      "outputs": [
        {
          "output_type": "stream",
          "name": "stdout",
          "text": [
            "O hash da planilha é  c198d933e2f35dbce0af77e8bd450b20cd38e25ce726f6726c93a79348316eb5\n"
          ]
        }
      ]
    },
    {
      "cell_type": "markdown",
      "source": [
        "Criação do hash das três colunas da planilha"
      ],
      "metadata": {
        "id": "Dnm_Mx9A6HyC"
      }
    },
    {
      "cell_type": "code",
      "source": [
        "colunas = baseDeDados.columns.tolist() # Cria uma lista com o nome de todas as colunas da planilha\n",
        "\n",
        "for coluna in colunas:\n",
        "   \n",
        "    colunasConversao = baseDeDados[coluna].to_csv().encode()  # Cria-se um objeto com o conteúdo da coluna em bytes\n",
        "\n",
        "    ColunasHash = hashlib.sha256(colunasConversao).hexdigest() # Calcula o hash do conteúdo da coluna usando o algoritmo SHA-256\n",
        "\n",
        "    print(f\"O hash da coluna {coluna} é {ColunasHash}\\n\") # Imprime o hash da coluna"
      ],
      "metadata": {
        "colab": {
          "base_uri": "https://localhost:8080/"
        },
        "id": "xL9mHAzs6QT0",
        "outputId": "54b66eae-c68f-4a46-addb-ce7dba7d87c2"
      },
      "execution_count": 80,
      "outputs": [
        {
          "output_type": "stream",
          "name": "stdout",
          "text": [
            "O hash da coluna Tensão V é 241ebb6fcfb14f5a42aaab4e8ede1d9eda52e3749aa854db4c5eb182e0119299\n",
            "\n",
            "O hash da coluna Resistor Ω é db814cf8f794368309438c2e42331684352551b6fdec70205691113afd2eee9d\n",
            "\n",
            "O hash da coluna medida A é 62166ec42a98617d70340ab8bbfa8844f5e7a13e4cc364c614a8b66c3b62b919\n",
            "\n"
          ]
        }
      ]
    },
    {
      "cell_type": "markdown",
      "source": [
        "**Comparação**\n",
        "\n",
        "\n",
        "\n",
        "1.   Hash Planilha Inteira\n",
        "\n",
        "\n",
        "```\n",
        "c198d933e2f35dbce0af77e8bd450b20cd38e25ce726f6726c93a79348316eb5\n",
        "```\n",
        "\n",
        "\n",
        "2.   Hash Coluna Tensão V\n",
        "\n",
        "\n",
        "```\n",
        "241ebb6fcfb14f5a42aaab4e8ede1d9eda52e3749aa854db4c5eb182e0119299\n",
        "```\n",
        "\n",
        "\n",
        "3.   Hash Coluna Resistor Ω\n",
        "\n",
        "\n",
        "```\n",
        "db814cf8f794368309438c2e42331684352551b6fdec70205691113afd2eee9d\n",
        "```\n",
        "\n",
        "\n",
        "4.   Hash Coluna medida A\n",
        "\n",
        "\n",
        "```\n",
        "62166ec42a98617d70340ab8bbfa8844f5e7a13e4cc364c614a8b66c3b62b919\n",
        "```\n",
        "\n",
        "\n",
        "\n"
      ],
      "metadata": {
        "id": "k_ApUdTb6zOY"
      }
    },
    {
      "cell_type": "markdown",
      "source": [
        "Validação do caso de teste"
      ],
      "metadata": {
        "id": "Oda_6Bbr7UBX"
      }
    },
    {
      "cell_type": "code",
      "source": [
        "# Array com todos os hashs da planilha, respectivamente citados acima\n",
        "hashs = ['c198d933e2f35dbce0af77e8bd450b20cd38e25ce726f6726c93a79348316eb5',\n",
        "         '241ebb6fcfb14f5a42aaab4e8ede1d9eda52e3749aa854db4c5eb182e0119299',\n",
        "         'db814cf8f794368309438c2e42331684352551b6fdec70205691113afd2eee9d',\n",
        "         '62166ec42a98617d70340ab8bbfa8844f5e7a13e4cc364c614a8b66c3b62b919']\n",
        "\n",
        "if all(w == hashs[0] for w in hashs): # Cria uma lista de valores booleanos com cada elemento da lista hashs, comparando se é igual ao primeiro elemento hashs[0]\n",
        "    print(\"Teste Inválido : Criar um hash de um arquivo em excel\\n\")\n",
        "    print(\"Todos os elementos são iguais!\")\n",
        "else:\n",
        "    print(\"Teste Válido : Criar um hash de um arquivo em excel\\n\")\n",
        "    print(\"Existem elementos diferentes na lista!\")"
      ],
      "metadata": {
        "colab": {
          "base_uri": "https://localhost:8080/"
        },
        "id": "kHnFes8A7Tf0",
        "outputId": "a061fe95-bd2b-4564-e87e-66ac6fd7ccc2"
      },
      "execution_count": 81,
      "outputs": [
        {
          "output_type": "stream",
          "name": "stdout",
          "text": [
            "Teste Válido : Criar um hash de um arquivo em excel\n",
            "\n",
            "Existem elementos diferentes na lista!\n"
          ]
        }
      ]
    },
    {
      "cell_type": "markdown",
      "source": [
        "## Caso de teste 10\n",
        "\n",
        "10. Criar um hash de um arquivo em txt"
      ],
      "metadata": {
        "id": "l3lryZfwR1Eu"
      }
    },
    {
      "cell_type": "markdown",
      "source": [
        "Importando o arquivo txt"
      ],
      "metadata": {
        "id": "qp169PVS_sT5"
      }
    },
    {
      "cell_type": "code",
      "source": [
        "with open(\"/content/drive/MyDrive/AtividadesGiovanna/exemploHash.txt\", \"r\") as arquivo: \n",
        "\n",
        "    arquivoTexto = arquivo.read() # Lê o arquivo de texto"
      ],
      "metadata": {
        "id": "_UzrxATAR3vF"
      },
      "execution_count": 82,
      "outputs": []
    },
    {
      "cell_type": "markdown",
      "source": [
        "Criando o hash do arquivo txt"
      ],
      "metadata": {
        "id": "jzI_FyPT_wIq"
      }
    },
    {
      "cell_type": "code",
      "source": [
        "hashTexto = (hashlib.sha256(arquivoTexto.encode())).hexdigest() # Calcula o hash do conteúdo da coluna usando o algoritmo SHA-256\n",
        "\n",
        "print(\"Hash do código em SHA-256 do primeiro arquivo de texto:\", hashTexto) # Imprime o hash "
      ],
      "metadata": {
        "id": "NLUxlRT2_vfI",
        "colab": {
          "base_uri": "https://localhost:8080/"
        },
        "outputId": "cfbca017-681f-4cfd-e549-bf4440605148"
      },
      "execution_count": 83,
      "outputs": [
        {
          "output_type": "stream",
          "name": "stdout",
          "text": [
            "Hash do código em SHA-256 do primeiro arquivo de texto: c1789047e8d1f583b04117a02635cffd413fed5033cf210060742a3ce84c8af7\n"
          ]
        }
      ]
    },
    {
      "cell_type": "markdown",
      "source": [
        "Lendo o conteúdo do arquivo txt"
      ],
      "metadata": {
        "id": "jOyroGM5_ys6"
      }
    },
    {
      "cell_type": "code",
      "source": [
        "arquivoTexto"
      ],
      "metadata": {
        "colab": {
          "base_uri": "https://localhost:8080/",
          "height": 36
        },
        "id": "Qymne_7O_pxY",
        "outputId": "d5fcd09a-3168-4354-f27c-6a0a963aa862"
      },
      "execution_count": 84,
      "outputs": [
        {
          "output_type": "execute_result",
          "data": {
            "text/plain": [
              "'teste para criação de hash - Giovanna Furlan Torres - 02/03/2023'"
            ],
            "application/vnd.google.colaboratory.intrinsic+json": {
              "type": "string"
            }
          },
          "metadata": {},
          "execution_count": 84
        }
      ]
    },
    {
      "cell_type": "markdown",
      "source": [
        "Importando outro arquivo txt com a palavra \"Giovanna\" com um 'N' a menos"
      ],
      "metadata": {
        "id": "dHchYrH-_29E"
      }
    },
    {
      "cell_type": "code",
      "source": [
        "with open(\"/content/drive/MyDrive/AtividadesGiovanna/exemploHashModificado.txt\", \"r\") as arquivo2: \n",
        "\n",
        "    arquivoTexto2 = arquivo2.read() # Lê o arquivo de texto"
      ],
      "metadata": {
        "id": "iqmFPDHsAeIC"
      },
      "execution_count": 85,
      "outputs": []
    },
    {
      "cell_type": "markdown",
      "source": [
        "Lendo o conteúdo do arquivo modificado"
      ],
      "metadata": {
        "id": "npIk5KSrAlHi"
      }
    },
    {
      "cell_type": "code",
      "source": [
        "arquivoTexto2"
      ],
      "metadata": {
        "colab": {
          "base_uri": "https://localhost:8080/",
          "height": 36
        },
        "id": "nuQqPTm2An0B",
        "outputId": "207bf96f-2923-4eee-ed79-0aa51b0d407e"
      },
      "execution_count": 86,
      "outputs": [
        {
          "output_type": "execute_result",
          "data": {
            "text/plain": [
              "'teste para criação de hash - Giovana Furlan Torres - 02/03/2023'"
            ],
            "application/vnd.google.colaboratory.intrinsic+json": {
              "type": "string"
            }
          },
          "metadata": {},
          "execution_count": 86
        }
      ]
    },
    {
      "cell_type": "markdown",
      "source": [
        "Criando o hash do arquivo modificado"
      ],
      "metadata": {
        "id": "HZtGbkzWArQN"
      }
    },
    {
      "cell_type": "code",
      "source": [
        "hashTexto2 = (hashlib.sha256(arquivoTexto2.encode())).hexdigest() # Calcula o hash do conteúdo da coluna usando o algoritmo SHA-256\n",
        "\n",
        "print(\"Hash do código em SHA-256 do segundo arquivo de texto:\", hashTexto2) # Imprime o hash "
      ],
      "metadata": {
        "colab": {
          "base_uri": "https://localhost:8080/"
        },
        "id": "2acMI6BqAqKS",
        "outputId": "054dedb1-5bd7-4035-d8c4-ba10d65065a1"
      },
      "execution_count": 87,
      "outputs": [
        {
          "output_type": "stream",
          "name": "stdout",
          "text": [
            "Hash do código em SHA-256 do segundo arquivo de texto: d851125908ebdf1bc30f55df3bdaa6c526b3be52760523eb2f9664aab415db4e\n"
          ]
        }
      ]
    },
    {
      "cell_type": "markdown",
      "source": [
        "**Comparação**\n",
        "\n",
        "\n",
        "\n",
        "1.   Hash arquivo de texto 1\n",
        "\n",
        "\n",
        "```\n",
        "c1789047e8d1f583b04117a02635cffd413fed5033cf210060742a3ce84c8af7\n",
        "```\n",
        "\n",
        "\n",
        "2.   Hash arquivo de texto 2\n",
        "\n",
        "\n",
        "```\n",
        "d851125908ebdf1bc30f55df3bdaa6c526b3be52760523eb2f9664aab415db4e\n",
        "```\n",
        "\n",
        "\n"
      ],
      "metadata": {
        "id": "OEhsgLVmA35a"
      }
    },
    {
      "cell_type": "markdown",
      "source": [
        "Validando caso de teste"
      ],
      "metadata": {
        "id": "oUfklcoPBFoB"
      }
    },
    {
      "cell_type": "code",
      "source": [
        "if hashTexto == hashTexto2: \n",
        "   print(\"Teste Inválido : Criar um hash de um arquivo em txt\\n\")\n",
        "   print(\"Os arquivos mesmo diferentes entre si, possuem hash iguais!\")\n",
        "else:\n",
        "    print(\"Teste Válido : Criar um hash de um arquivo em txt\\n\")\n",
        "    print(\"Os arquivos são diferentes e apresentam hash's diferentes!\")"
      ],
      "metadata": {
        "colab": {
          "base_uri": "https://localhost:8080/"
        },
        "id": "V_lyzSMQBH8p",
        "outputId": "c338e0f5-5b70-4d3a-911c-fd53f83ff271"
      },
      "execution_count": 88,
      "outputs": [
        {
          "output_type": "stream",
          "name": "stdout",
          "text": [
            "Teste Válido : Criar um hash de um arquivo em txt\n",
            "\n",
            "Os arquivos são diferentes e apresentam hash's diferentes!\n"
          ]
        }
      ]
    }
  ]
}