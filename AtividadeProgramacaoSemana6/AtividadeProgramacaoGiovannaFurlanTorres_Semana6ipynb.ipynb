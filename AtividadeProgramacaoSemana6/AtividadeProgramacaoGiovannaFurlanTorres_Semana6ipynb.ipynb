{
  "nbformat": 4,
  "nbformat_minor": 0,
  "metadata": {
    "colab": {
      "provenance": []
    },
    "kernelspec": {
      "name": "python3",
      "display_name": "Python 3"
    },
    "language_info": {
      "name": "python"
    }
  },
  "cells": [
    {
      "cell_type": "markdown",
      "source": [
        "# Atividade de programação\n",
        "\n",
        "Pesquise uma biblioteca em Python que implemente o algoritmo AES-256 e realize testes de tempo de resposta. Crie 1 caso de teste, registre os resultados em uma tabela e elabore uma descrição textual do método utilizado e dos resultados obtidos. Cada teste deverá ser realizado 100 vezes, e uma análise estatística simples deve ser realizada (calcular desvio padrão e apresentar um histograma).\n",
        "\n",
        "## Informações\n",
        "\n",
        "*   Giovanna Furlan Torres - Sistemas de Informação\n",
        "\n",
        "\n",
        "\n"
      ],
      "metadata": {
        "id": "j99awvloXPDN"
      }
    },
    {
      "cell_type": "markdown",
      "source": [
        "Para a execução do exercício escoulheu-se a biblioteca cryptography. A qual é recomendada para criptográfica geral e suporta AES-256."
      ],
      "metadata": {
        "id": "VnJDJGAobfKD"
      }
    },
    {
      "cell_type": "code",
      "source": [
        "!pip install cryptography # Instalação da biblioteca"
      ],
      "metadata": {
        "colab": {
          "base_uri": "https://localhost:8080/"
        },
        "id": "ySzkKpdUbeux",
        "outputId": "bacb1d6f-0e5a-4dfa-d719-766551b729a6"
      },
      "execution_count": 39,
      "outputs": [
        {
          "output_type": "stream",
          "name": "stdout",
          "text": [
            "Looking in indexes: https://pypi.org/simple, https://us-python.pkg.dev/colab-wheels/public/simple/\n",
            "Requirement already satisfied: cryptography in /usr/local/lib/python3.9/dist-packages (39.0.2)\n",
            "Requirement already satisfied: cffi>=1.12 in /usr/local/lib/python3.9/dist-packages (from cryptography) (1.15.1)\n",
            "Requirement already satisfied: pycparser in /usr/local/lib/python3.9/dist-packages (from cffi>=1.12->cryptography) (2.21)\n"
          ]
        }
      ]
    },
    {
      "cell_type": "markdown",
      "source": [
        "##Casos de teste\n",
        "\n",
        "OBS: Para este exercício selecionou-se três casos de teste, sendo dois programados para funcionar corretamente conforme o pedido do exercício e o terceiro para falhar, seguido de uma explicação.\n",
        "\n",
        "1. Primeiro Teste : O código é responsável por realizar a criptografia de uma frase, utilizando AES-256, logo após, descriptografa-lá utilizando a mesma chave para garantir que a mensagem original seja recuperada.\n",
        "\n",
        "2. Segundo Teste : O código é responsável por realizar a criptografia com mensagem vazia, com a chave AES-256. \n",
        "\n",
        "3. Terceiro Teste : O código é responsável por realizar a criptografia com chave inválida e retornar um erro apropriado.\n",
        "\n",
        "O **método** utilizado para a realização de tais testes é o AES (Advanced Encryption Standard) - 256. Este utilizada uma chave de criptografia de 256 bits para criptografar e descriptografar dados em blocos de 128 bits, é considerado um dos mais seguros disponíveis atualmente."
      ],
      "metadata": {
        "id": "zCT8yoJGb9Nr"
      }
    },
    {
      "cell_type": "markdown",
      "source": [
        "##Bibliotecas"
      ],
      "metadata": {
        "id": "y9CZS5siDvvJ"
      }
    },
    {
      "cell_type": "markdown",
      "source": [
        "Importação das bibliotecas utilizadas"
      ],
      "metadata": {
        "id": "T1O5S48OBZSE"
      }
    },
    {
      "cell_type": "code",
      "source": [
        "from cryptography.fernet import Fernet\n",
        "import time\n",
        "import numpy as np\n",
        "import pandas as pd\n",
        "import matplotlib.pyplot as plt"
      ],
      "metadata": {
        "id": "OyMC4HwDBdj4"
      },
      "execution_count": 40,
      "outputs": []
    },
    {
      "cell_type": "markdown",
      "source": [
        "#Teste 1"
      ],
      "metadata": {
        "id": "e6vFiCMfdk5B"
      }
    },
    {
      "cell_type": "markdown",
      "source": [
        "**Primeiro Teste :** O código é responsável por realizar a criptografia de uma frase, utilizando AES-256, logo após, descriptografa-lá utilizando a mesma chave para garantir que a mensagem original seja recuperada."
      ],
      "metadata": {
        "id": "ZchUZh5GCLYk"
      }
    },
    {
      "cell_type": "code",
      "source": [
        "key = Fernet.generate_key() # Chave aleatória para o AES-256\n",
        "\n",
        "fernet = Fernet(key) # Objeto Fernet com a chave gerada\n",
        "\n",
        "fraseOriginal = \"Pode parar de nadar agora, Lily. Finalmente chegamos à costa.\" # Frase para criptografar\n",
        "\n",
        "fraseBytes = fraseOriginal.encode() # Conversão da frase para bytes\n",
        "\n",
        "execucoes = 100 # Número de execuções que a criptografia e descriptografia serão realizadas\n",
        "\n",
        "tempoExecucao = [] # Lista para armazenar o tempo de execução\n",
        "\n",
        "fraseCriptografadaLista  = [] # Lista para armazenar as frases criptografadas\n",
        "\n",
        "fraseDescriptografadaLista = [] # Lista para armazenar as frases descriptografadas\n",
        "\n",
        "for i in range(execucoes):\n",
        "    \n",
        "    # Criptografia \n",
        "\n",
        "    inicio = time.time() # Registra o tempo de execução (Começo)\n",
        "\n",
        "    fraseCriptografada = fernet.encrypt(fraseBytes) # Criptografa a mensagem usando a chave AES-256 \n",
        "\n",
        "    fim = time.time() # Registra o tempo de execução (Final)\n",
        "\n",
        "    tempoTotalCriptografia = fim - inicio # Calcula o tempo total que levou para criptografar\n",
        "\n",
        "    # Descriptografia\n",
        "\n",
        "    inicio = time.time() # Registra o tempo de execução (Começo)\n",
        "\n",
        "    fraseDescriptografadaBytes = fernet.decrypt(fraseCriptografada)  # Descriptografa a mensagem usando a chave AES-256 \n",
        "\n",
        "    fim = time.time() # Registra o tempo de execução (Final)\n",
        "\n",
        "    tempoTotalDescriptografia = fim - inicio # Calcula o tempo total que levou para descriptografar\n",
        "\n",
        "    fraseDescriptografada = fraseDescriptografadaBytes.decode() # Frase descriptografada Bytes para string\n",
        "    \n",
        "    tempoExecucao.extend([tempoTotalCriptografia, tempoTotalDescriptografia])  # Adiciona o Tempo de execução a lista 'tempoExecucao'\n",
        "\n",
        "    fraseCriptografadaLista.append(fraseCriptografada) # Adiciona a frase criptografada a lista 'fraseCriptografadaLista'\n",
        "\n",
        "    fraseDescriptografadaLista.append(fraseDescriptografada) # Adiciona a frase Descriptografada a lista 'fraseDescriptografadaLista'\n",
        "\n",
        "# DataFrame com resultados\n",
        "resultados = pd.DataFrame({\n",
        "    \"Mensagem Original\": [fraseOriginal] * execucoes,\n",
        "    \"Mensagem Criptografada\" : fraseCriptografadaLista,\n",
        "    \"Mensagem Descriptografada\": fraseDescriptografadaLista,\n",
        "    \"Tempo de Execução Criptografia (s)\": tempoExecucao[::2],  # Seleciona o tempo de execução em segundos para a criptografia\n",
        "    \"Tempo de Execução Descriptografia (s)\": tempoExecucao[1::2]  # Seleciona o tempo de execução em segundos para a descriptografia\n",
        "})"
      ],
      "metadata": {
        "id": "SZ02bES1eXdv"
      },
      "execution_count": 41,
      "outputs": []
    },
    {
      "cell_type": "code",
      "source": [
        "# Verificação 1\n",
        "if all(aux == fraseOriginal for aux in fraseDescriptografadaLista): # A mensagem de criptografia e descriptografia são iguais\n",
        "    print(\"Teste Válido : A mensagem descriptografada é igual à mensagem original.\") # Exibe a mensagem de sucesso de são iguais\n",
        "else:\n",
        "    print(\"Erro: a mensagem descriptografada não é igual à mensagem original.\") # Exibe a mensagem de erro se são diferentes"
      ],
      "metadata": {
        "colab": {
          "base_uri": "https://localhost:8080/"
        },
        "id": "7wbeQF15Yv5C",
        "outputId": "8310122d-fdd9-426a-ea79-64d48e252e46"
      },
      "execution_count": 42,
      "outputs": [
        {
          "output_type": "stream",
          "name": "stdout",
          "text": [
            "Teste Válido : A mensagem descriptografada é igual à mensagem original.\n"
          ]
        }
      ]
    },
    {
      "cell_type": "code",
      "source": [
        "# Verificação 2\n",
        "if len(fraseCriptografadaLista) == len(fraseDescriptografadaLista) == execucoes: # Número de elementos na lista de mensagem é igual a quantidade de tempo de execuções\n",
        "    print(\"Teste Válido : O número de elementos em ambas as listas são iguais.\") # Exibe a mensagem de sucesso de são iguais\n",
        "else:\n",
        "    print(\"Erro: o número de elementos nas listas não são iguais ao tempo de execuções.\") # Exibe a mensagem de erro se são diferentes"
      ],
      "metadata": {
        "colab": {
          "base_uri": "https://localhost:8080/"
        },
        "id": "atVT8F6MZj1V",
        "outputId": "491ed780-c49f-45a4-a031-740b0672cf3f"
      },
      "execution_count": 43,
      "outputs": [
        {
          "output_type": "stream",
          "name": "stdout",
          "text": [
            "Teste Válido : O número de elementos em ambas as listas são iguais.\n"
          ]
        }
      ]
    },
    {
      "cell_type": "code",
      "source": [
        "# Verificação 3\n",
        "if all(aux > 0 for aux in tempoExecucao): # O tempo de execução da criptografia e descriptografia não pode ser negativo\n",
        "    print(\"Teste Válido : Não teve nenhum tempo de execução negativo.\") # Exibe a mensagem de sucesso se não tiver tempo negativo\n",
        "else:\n",
        "    print(\"Erro: Encontrou-se tempo de execução negativo.\") # Exibe a mensagem de erro se tiver tempo negativo"
      ],
      "metadata": {
        "colab": {
          "base_uri": "https://localhost:8080/"
        },
        "id": "DLrXLpJ6ZlPY",
        "outputId": "7a540847-a9db-4775-828b-885c859460ce"
      },
      "execution_count": 44,
      "outputs": [
        {
          "output_type": "stream",
          "name": "stdout",
          "text": [
            "Teste Válido : Não teve nenhum tempo de execução negativo.\n"
          ]
        }
      ]
    },
    {
      "cell_type": "code",
      "source": [
        "print(resultados) # Exibe os resultados"
      ],
      "metadata": {
        "colab": {
          "base_uri": "https://localhost:8080/"
        },
        "id": "0UyIv7qLhClD",
        "outputId": "090a7e60-9091-491d-aa6d-214b480ffa17"
      },
      "execution_count": 45,
      "outputs": [
        {
          "output_type": "stream",
          "name": "stdout",
          "text": [
            "                                    Mensagem Original  \\\n",
            "0   Pode parar de nadar agora, Lily. Finalmente ch...   \n",
            "1   Pode parar de nadar agora, Lily. Finalmente ch...   \n",
            "2   Pode parar de nadar agora, Lily. Finalmente ch...   \n",
            "3   Pode parar de nadar agora, Lily. Finalmente ch...   \n",
            "4   Pode parar de nadar agora, Lily. Finalmente ch...   \n",
            "..                                                ...   \n",
            "95  Pode parar de nadar agora, Lily. Finalmente ch...   \n",
            "96  Pode parar de nadar agora, Lily. Finalmente ch...   \n",
            "97  Pode parar de nadar agora, Lily. Finalmente ch...   \n",
            "98  Pode parar de nadar agora, Lily. Finalmente ch...   \n",
            "99  Pode parar de nadar agora, Lily. Finalmente ch...   \n",
            "\n",
            "                               Mensagem Criptografada  \\\n",
            "0   b'gAAAAABkDHdG82_LhxUD6WGyQVWBhWIuvvuCjd0J0ZVz...   \n",
            "1   b'gAAAAABkDHdG3iRSo7ozBVoF2sfdfXv8btq4RWjpMDaC...   \n",
            "2   b'gAAAAABkDHdGt0O017C78775PjCP8PsH-bsJqqfMPZIz...   \n",
            "3   b'gAAAAABkDHdGCYejOcPjbEDv3lavhZNI3ncNCJDSd-UG...   \n",
            "4   b'gAAAAABkDHdG7usIbfJxon8I3HQBi2BaelNZnwVgTcCa...   \n",
            "..                                                ...   \n",
            "95  b'gAAAAABkDHdGWEvVoXpH-pzA9TUb3EuLLFENpShHzoZB...   \n",
            "96  b'gAAAAABkDHdGPBBvKJQsi_st2hMRXyqWBHfH1Z2pDDTE...   \n",
            "97  b'gAAAAABkDHdGb1G1pKj_yQviFPl2JiE1NJTV8LY47Ktq...   \n",
            "98  b'gAAAAABkDHdG5fnPuXUciGo_lKhslOK2FUdT2f2MXMP6...   \n",
            "99  b'gAAAAABkDHdGryd9ZoEQDFhbw41MtoWbGjodBjTHY7Uf...   \n",
            "\n",
            "                            Mensagem Descriptografada  \\\n",
            "0   Pode parar de nadar agora, Lily. Finalmente ch...   \n",
            "1   Pode parar de nadar agora, Lily. Finalmente ch...   \n",
            "2   Pode parar de nadar agora, Lily. Finalmente ch...   \n",
            "3   Pode parar de nadar agora, Lily. Finalmente ch...   \n",
            "4   Pode parar de nadar agora, Lily. Finalmente ch...   \n",
            "..                                                ...   \n",
            "95  Pode parar de nadar agora, Lily. Finalmente ch...   \n",
            "96  Pode parar de nadar agora, Lily. Finalmente ch...   \n",
            "97  Pode parar de nadar agora, Lily. Finalmente ch...   \n",
            "98  Pode parar de nadar agora, Lily. Finalmente ch...   \n",
            "99  Pode parar de nadar agora, Lily. Finalmente ch...   \n",
            "\n",
            "    Tempo de Execução Criptografia (s)  Tempo de Execução Descriptografia (s)  \n",
            "0                             0.000456                               0.000130  \n",
            "1                             0.000092                               0.000065  \n",
            "2                             0.000058                               0.000059  \n",
            "3                             0.000054                               0.000057  \n",
            "4                             0.000053                               0.000055  \n",
            "..                                 ...                                    ...  \n",
            "95                            0.000054                               0.000054  \n",
            "96                            0.000082                               0.000082  \n",
            "97                            0.000061                               0.000059  \n",
            "98                            0.000054                               0.000056  \n",
            "99                            0.000054                               0.000056  \n",
            "\n",
            "[100 rows x 5 columns]\n"
          ]
        }
      ]
    },
    {
      "cell_type": "code",
      "source": [
        "desvioPadraoCriptografia = np.std(resultados[\"Tempo de Execução Criptografia (s)\"]) # Calcula o desvio padrão para a criptografia\n",
        "\n",
        "desvioPadraoDescriptografia = np.std(resultados[\"Tempo de Execução Descriptografia (s)\"]) # Calcula o desvio padrão para a descriptografia\n",
        "\n",
        "print(\"Desvio padrão da criptografia:\", desvioPadraoCriptografia) # Exibe o resultado do desvio padrão para a criptografia\n",
        "\n",
        "print(\"\\nDesvio padrão da descriptografia:\", desvioPadraoDescriptografia) # Exibe o resultado do desvio padrão para a descriptografia\n",
        "\n"
      ],
      "metadata": {
        "colab": {
          "base_uri": "https://localhost:8080/"
        },
        "id": "ceT_YaKLhEP_",
        "outputId": "5d5d04cb-5342-4287-f491-e7b5ee13fd1a"
      },
      "execution_count": 46,
      "outputs": [
        {
          "output_type": "stream",
          "name": "stdout",
          "text": [
            "Desvio padrão da criptografia: 4.690670144202144e-05\n",
            "\n",
            "Desvio padrão da descriptografia: 1.2408243850280507e-05\n"
          ]
        }
      ]
    },
    {
      "cell_type": "code",
      "source": [
        "plt.hist(resultados[\"Tempo de Execução Criptografia (s)\"], bins=10) \n",
        "\n",
        "plt.title(\"Histograma de Tempos de Execução da Criptografia\") # Define o título do histograma de criptografia\n",
        "\n",
        "plt.xlabel(\"Tempo de Execução (s)\") # Define o eixo X do histograma de criptografia\n",
        "\n",
        "plt.ylabel(\"Frequência\") # Define o eixo Y do histograma de criptografia\n",
        "\n",
        "plt.show() # Exibe o histograma de criptografia"
      ],
      "metadata": {
        "colab": {
          "base_uri": "https://localhost:8080/",
          "height": 295
        },
        "id": "XNPXprbkhFpU",
        "outputId": "19784ad1-358d-4d26-d50e-881d30a1cb23"
      },
      "execution_count": 47,
      "outputs": [
        {
          "output_type": "display_data",
          "data": {
            "text/plain": [
              "<Figure size 432x288 with 1 Axes>"
            ],
            "image/png": "[encoded data removed]"
          },
          "metadata": {
            "needs_background": "light"
          }
        }
      ]
    },
    {
      "cell_type": "code",
      "source": [
        "plt.hist(resultados[\"Tempo de Execução Descriptografia (s)\"], bins=10)\n",
        "\n",
        "plt.title(\"Histograma de Tempos de Execução da Descriptografia\") # Define o título do histograma de descriptografia\n",
        "\n",
        "plt.xlabel(\"Tempo de Execução (s)\")  # Define o eixo X do histograma de descriptografia\n",
        "\n",
        "plt.ylabel(\"Frequência\") # Define o eixo Y do histograma de descriptografia\n",
        "\n",
        "plt.show() # Exibe o histograma de descriptografia"
      ],
      "metadata": {
        "colab": {
          "base_uri": "https://localhost:8080/",
          "height": 295
        },
        "id": "7DPu244bhG6T",
        "outputId": "4f3ef09a-ffcc-4474-8444-f84a2f7036e8"
      },
      "execution_count": 48,
      "outputs": [
        {
          "output_type": "display_data",
          "data": {
            "text/plain": [
              "<Figure size 432x288 with 1 Axes>"
            ],
            "image/png": "[encoded data removed]"
          },
          "metadata": {
            "needs_background": "light"
          }
        }
      ]
    },
    {
      "cell_type": "code",
      "source": [
        "CriptografiaRapido = min(resultados[\"Tempo de Execução Criptografia (s)\"]) # Define o tempo para rápido para criptografia\n",
        "\n",
        "indiceCriptografiaRapido = resultados[\"Tempo de Execução Criptografia (s)\"].idxmin() # Frase que corresponde ao tempo mais rápido criptografia\n",
        "\n",
        "DescriptografiaRapido = min(resultados[\"Tempo de Execução Descriptografia (s)\"]) # Define o tempo mais rápido para descriptografia\n",
        "\n",
        "indiceDescriptografiaRapido = resultados[\"Tempo de Execução Descriptografia (s)\"].idxmin() # Frase que corresponde ao tempo mais rápido descriptografia\n",
        "\n",
        "# Imprima a mensagem original e a mensagem descriptografada do caso mais rápido de criptografar e descriptografar\n",
        "print(\"\\nTempo de execução da criptografia mais rápida:\", CriptografiaRapido)\n",
        "\n",
        "print(\"\\nFrase original do caso mais rápido de criptografar:\", resultados.loc[indiceCriptografiaRapido, \"Mensagem Original\"])\n",
        "\n",
        "print(\"\\nTempo de execução da descriptografia mais rápida:\", DescriptografiaRapido)\n",
        "\n",
        "print(\"\\nFrase descriptografada do caso mais rápido de descriptografar:\", resultados.loc[indiceDescriptografiaRapido, \"Mensagem Descriptografada\"])\n",
        "\n"
      ],
      "metadata": {
        "colab": {
          "base_uri": "https://localhost:8080/"
        },
        "id": "_UsLudkLhZcB",
        "outputId": "9a608cbc-54c8-46c2-e962-f63bd03a6944"
      },
      "execution_count": 49,
      "outputs": [
        {
          "output_type": "stream",
          "name": "stdout",
          "text": [
            "\n",
            "Tempo de execução da criptografia mais rápida: 5.054473876953125e-05\n",
            "\n",
            "Frase original do caso mais rápido de criptografar: Pode parar de nadar agora, Lily. Finalmente chegamos à costa.\n",
            "\n",
            "Tempo de execução da descriptografia mais rápida: 5.221366882324219e-05\n",
            "\n",
            "Frase descriptografada do caso mais rápido de descriptografar: Pode parar de nadar agora, Lily. Finalmente chegamos à costa.\n"
          ]
        }
      ]
    },
    {
      "cell_type": "markdown",
      "source": [
        "# Teste 2"
      ],
      "metadata": {
        "id": "KcJqqSPvh6PW"
      }
    },
    {
      "cell_type": "markdown",
      "source": [
        "**Segundo Teste :** O código é responsável por realizar a criptografia com mensagem vazia, com a chave AES-256."
      ],
      "metadata": {
        "id": "gQhIz5AliEMB"
      }
    },
    {
      "cell_type": "code",
      "source": [
        "key = Fernet.generate_key() # Chave aleatória para o AES-256\n",
        "\n",
        "fernet = Fernet(key) # Objeto Fernet com a chave gerada\n",
        "\n",
        "mensagem = \"\" # Mensagem vazia a ser criptografada\n",
        "\n",
        "execucoesTeste = 100 # Número de execuções que a criptografia será realizada\n",
        "\n",
        "execucaoTempo = [] # Lista para armazenar o tempo de execução\n",
        "\n",
        "criptografiaMensagens = [] # Lista para armazenar as frases criptografadas\n",
        "\n",
        "for i in range(execucoesTeste):\n",
        "\n",
        "    inicio = time.time()  # Registra o tempo de execução (Começo)\n",
        "\n",
        "    mensagemCriptografada = fernet.encrypt(mensagem.encode()) # Criptografa a mensagem usando a chave AES-256 \n",
        "\n",
        "    fim = time.time()  # Registra o tempo de execução (Final)\n",
        "\n",
        "    tempoTotal = fim - inicio # Calcula o tempo total que levou para criptografar\n",
        "    \n",
        "    execucaoTempo.append(tempoTotal) # Adiciona o tempo de cada teste na lista\n",
        "\n",
        "    criptografiaMensagens.append(mensagemCriptografada) # Adiciona o valor de cada mensagem na lista\n",
        "\n",
        "\n",
        "# Crie um DataFrame para armazenar os resultados\n",
        "resultados = pd.DataFrame({\n",
        "    \"Mensagem Original\": [mensagem] * execucoesTeste,\n",
        "    \"Mensagem Criptografada\": criptografiaMensagens,\n",
        "    \"Tempo de Execução Criptografia (s)\": execucaoTempo # O tempo de execução é dado em segundos\n",
        "})"
      ],
      "metadata": {
        "id": "51P9ozo6h9D7"
      },
      "execution_count": 50,
      "outputs": []
    },
    {
      "cell_type": "code",
      "source": [
        "if mensagem.encode() == fernet.decrypt(mensagemCriptografada): # Verifica se a mensagem foi criptografada com sucesso\n",
        "    print(\"Teste Válido : Mensagem criptografada com sucesso!\") # Exibe a mensagem de sucesso se a mensagem for criptografada\n",
        "else:\n",
        "    print(\"Erro ao criptografar a mensagem\") # Exibe a mensagem de erro se a mensagem não for criptografada "
      ],
      "metadata": {
        "colab": {
          "base_uri": "https://localhost:8080/"
        },
        "id": "ZKpsI2qPbvTo",
        "outputId": "2dcf17ad-2d6d-475d-cd73-c72078be7335"
      },
      "execution_count": 51,
      "outputs": [
        {
          "output_type": "stream",
          "name": "stdout",
          "text": [
            "Teste Válido : Mensagem criptografada com sucesso!\n"
          ]
        }
      ]
    },
    {
      "cell_type": "code",
      "source": [
        "print(resultados) # Exibe os resultados"
      ],
      "metadata": {
        "colab": {
          "base_uri": "https://localhost:8080/"
        },
        "id": "D2irsYxFUFGU",
        "outputId": "f81fa805-78d1-4f6e-c2fe-7890503f1419"
      },
      "execution_count": 52,
      "outputs": [
        {
          "output_type": "stream",
          "name": "stdout",
          "text": [
            "   Mensagem Original                             Mensagem Criptografada  \\\n",
            "0                     b'gAAAAABkDHdGm8R-uR5N2VgOEjz3OJ7gDpgxUjpOiRg8...   \n",
            "1                     b'gAAAAABkDHdG25DH3sGPsy2BJppiGajHdM_l7mW4X9Q7...   \n",
            "2                     b'gAAAAABkDHdG48qLSITT8pcY_yIZPW-wl1-BV8jITtDc...   \n",
            "3                     b'gAAAAABkDHdGyjjimbbfOiHDAcEq_uVV2q7x94H-ka-S...   \n",
            "4                     b'gAAAAABkDHdGDnCSLuQdTd11Am7qLod7uYmUMU4Qq7zp...   \n",
            "..               ...                                                ...   \n",
            "95                    b'gAAAAABkDHdGO5idUeYZblqvVtf1DwoZoD-zAy_iutU9...   \n",
            "96                    b'gAAAAABkDHdGB702E9DPFZKeB-Os3wviGtzTIcZhd4fE...   \n",
            "97                    b'gAAAAABkDHdG6OcGRslYPuBeI6YP1vxv5vltLTLOUvJe...   \n",
            "98                    b'gAAAAABkDHdGm2Mu8TqBMfIuzquUwj0cwmKj3wF5jmjj...   \n",
            "99                    b'gAAAAABkDHdGrUPoQ1IEB3bguJf1Oi_2hCvIm8bLGKUV...   \n",
            "\n",
            "    Tempo de Execução Criptografia (s)  \n",
            "0                             0.000324  \n",
            "1                             0.000132  \n",
            "2                             0.000111  \n",
            "3                             0.000133  \n",
            "4                             0.000147  \n",
            "..                                 ...  \n",
            "95                            0.000052  \n",
            "96                            0.000052  \n",
            "97                            0.000052  \n",
            "98                            0.000066  \n",
            "99                            0.000054  \n",
            "\n",
            "[100 rows x 3 columns]\n"
          ]
        }
      ]
    },
    {
      "cell_type": "code",
      "source": [
        "media = resultados[\"Tempo de Execução Criptografia (s)\"].mean() # Cálcula o tempo médio para criptografia\n",
        "\n",
        "desvio_padrao = resultados[\"Tempo de Execução Criptografia (s)\"].std() # Cálcula o desvio padrão para criptografia\n",
        "\n",
        "print(\"\\nTempo médio de execução: {:.4f} s\".format(media)) # Exibe o tempo médio para criptografia\n",
        "\n",
        "print(\"\\nDesvio padrão do tempo de execução: {:.4f} s\".format(desvio_padrao)) # Exibe o desvio padrão para criptografia"
      ],
      "metadata": {
        "colab": {
          "base_uri": "https://localhost:8080/"
        },
        "id": "VUWqtTPgT6gz",
        "outputId": "e1863b02-4f90-47b3-abbb-e7fdfbfb38ce"
      },
      "execution_count": 53,
      "outputs": [
        {
          "output_type": "stream",
          "name": "stdout",
          "text": [
            "\n",
            "Tempo médio de execução: 0.0001 s\n",
            "\n",
            "Desvio padrão do tempo de execução: 0.0000 s\n"
          ]
        }
      ]
    },
    {
      "cell_type": "code",
      "source": [
        "plt.hist(resultados[\"Tempo de Execução Criptografia (s)\"], bins=10)\n",
        "\n",
        "plt.title(\"Histograma do tempo de execução da criptografia\") # Define o titulo do histograma\n",
        "\n",
        "plt.xlabel(\"Tempo de Execução (s)\") # Define o eixo X do histograma\n",
        "\n",
        "plt.ylabel(\"Frequência\")  # Define o eixo Y do histograma\n",
        "\n",
        "plt.show() # Exibe o histograma"
      ],
      "metadata": {
        "colab": {
          "base_uri": "https://localhost:8080/",
          "height": 295
        },
        "id": "QfQEC_ToT_nw",
        "outputId": "9defb3f6-2fea-4f19-dffc-d1ca01664669"
      },
      "execution_count": 54,
      "outputs": [
        {
          "output_type": "display_data",
          "data": {
            "text/plain": [
              "<Figure size 432x288 with 1 Axes>"
            ],
            "image/png": "[encoded data removed]"
          },
          "metadata": {
            "needs_background": "light"
          }
        }
      ]
    },
    {
      "cell_type": "markdown",
      "source": [
        "# Teste 3"
      ],
      "metadata": {
        "id": "HiHsSP71jLUO"
      }
    },
    {
      "cell_type": "markdown",
      "source": [
        "**Terceiro Teste :** O código é responsável por realizar a criptografia com chave inválida e retornar um erro apropriado."
      ],
      "metadata": {
        "id": "lUdzrWp5acoC"
      }
    },
    {
      "cell_type": "markdown",
      "source": [
        "\n",
        "```\n",
        "ValueError: Fernet key must be 32 url-safe base64-encoded bytes\n",
        "```\n",
        "\n",
        "O erro ocorre pois quando mandamos a chave definida na linha 1 para a crição em Fernet o padrão esperado é inválido. Isso porque, defini-se para 16 bytes, sendo que para usar o Fernet, a chave precisa ser uma sequência de 32 bytes codificada em base64. Quando tentamos inserir uma chave menor que a esperada o algoritmo gerou um erro informando que a chave precisa ter 32 bytes, que é o tamanho correto para a chave AES-256. "
      ],
      "metadata": {
        "id": "sOc0FiuNmSTy"
      }
    },
    {
      "cell_type": "code",
      "source": [
        "chaveCurta = b'x'*16  # Define uma chave de 16 bytes (AES-128)\n",
        "\n",
        "fernet = Fernet(chaveCurta) # Objeto Fernet com a chave gerada\n",
        "\n",
        "palavra = \"INTELI\" # Definição da palavra para criptografia\n",
        "\n",
        "palavraBytes = palavra.encode() # Converte a palavra em sequência de bytes \n",
        "\n",
        "for i in range(100):\n",
        "\n",
        "  mensagemCurtaCriptografada = fernet.encrypt(palavraBytes) # Criptografa a palavra\n",
        "\n",
        "\n",
        "print(mensagemCurtaCriptografada) # Exibe os resultados"
      ],
      "metadata": {
        "colab": {
          "base_uri": "https://localhost:8080/",
          "height": 357
        },
        "id": "hXLtly8IjOHl",
        "outputId": "657e227b-cf2a-45e7-d6d0-1b01caff37e2"
      },
      "execution_count": 55,
      "outputs": [
        {
          "output_type": "error",
          "ename": "ValueError",
          "evalue": "ignored",
          "traceback": [
            "\u001b[0;31m---------------------------------------------------------------------------\u001b[0m",
            "\u001b[0;31mValueError\u001b[0m                                Traceback (most recent call last)",
            "\u001b[0;32m<ipython-input-55-83b7f71c4dcd>\u001b[0m in \u001b[0;36m<module>\u001b[0;34m\u001b[0m\n\u001b[1;32m      1\u001b[0m \u001b[0mchaveCurta\u001b[0m \u001b[0;34m=\u001b[0m \u001b[0;34mb'x'\u001b[0m\u001b[0;34m*\u001b[0m\u001b[0;36m16\u001b[0m  \u001b[0;31m# Define uma chave de 16 bytes (AES-128)\u001b[0m\u001b[0;34m\u001b[0m\u001b[0;34m\u001b[0m\u001b[0m\n\u001b[1;32m      2\u001b[0m \u001b[0;34m\u001b[0m\u001b[0m\n\u001b[0;32m----> 3\u001b[0;31m \u001b[0mfernet\u001b[0m \u001b[0;34m=\u001b[0m \u001b[0mFernet\u001b[0m\u001b[0;34m(\u001b[0m\u001b[0mchaveCurta\u001b[0m\u001b[0;34m)\u001b[0m \u001b[0;31m# Objeto Fernet com a chave gerada\u001b[0m\u001b[0;34m\u001b[0m\u001b[0;34m\u001b[0m\u001b[0m\n\u001b[0m\u001b[1;32m      4\u001b[0m \u001b[0;34m\u001b[0m\u001b[0m\n\u001b[1;32m      5\u001b[0m \u001b[0mpalavra\u001b[0m \u001b[0;34m=\u001b[0m \u001b[0;34m\"INTELI\"\u001b[0m \u001b[0;31m# Definição da palavra para criptografia\u001b[0m\u001b[0;34m\u001b[0m\u001b[0;34m\u001b[0m\u001b[0m\n",
            "\u001b[0;32m/usr/local/lib/python3.9/dist-packages/cryptography/fernet.py\u001b[0m in \u001b[0;36m__init__\u001b[0;34m(self, key, backend)\u001b[0m\n\u001b[1;32m     37\u001b[0m             ) from exc\n\u001b[1;32m     38\u001b[0m         \u001b[0;32mif\u001b[0m \u001b[0mlen\u001b[0m\u001b[0;34m(\u001b[0m\u001b[0mkey\u001b[0m\u001b[0;34m)\u001b[0m \u001b[0;34m!=\u001b[0m \u001b[0;36m32\u001b[0m\u001b[0;34m:\u001b[0m\u001b[0;34m\u001b[0m\u001b[0;34m\u001b[0m\u001b[0m\n\u001b[0;32m---> 39\u001b[0;31m             raise ValueError(\n\u001b[0m\u001b[1;32m     40\u001b[0m                 \u001b[0;34m\"Fernet key must be 32 url-safe base64-encoded bytes.\"\u001b[0m\u001b[0;34m\u001b[0m\u001b[0;34m\u001b[0m\u001b[0m\n\u001b[1;32m     41\u001b[0m             )\n",
            "\u001b[0;31mValueError\u001b[0m: Fernet key must be 32 url-safe base64-encoded bytes."
          ]
        }
      ]
    }
  ]
}